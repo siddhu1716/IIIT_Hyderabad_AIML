{
  "cells": [
    {
      "cell_type": "markdown",
      "metadata": {
        "id": "view-in-github",
        "colab_type": "text"
      },
      "source": [
        "<a href=\"https://colab.research.google.com/github/siddhu1716/IIIT_Hyderabad_Python/blob/main/AIML_Project_Module_2.ipynb\" target=\"_parent\"><img src=\"https://colab.research.google.com/assets/colab-badge.svg\" alt=\"Open In Colab\"/></a>"
      ]
    },
    {
      "cell_type": "markdown",
      "metadata": {
        "id": "LmWIufUKnVK6"
      },
      "source": [
        "# Module 2: Appreciating, Interpreting and Visualizing Data\n",
        "## Project\n",
        "---\n",
        "\n"
      ]
    },
    {
      "cell_type": "markdown",
      "metadata": {
        "id": "fzcKLePrnV3U"
      },
      "source": [
        "From 2020 to 2022, we have been severely affected by the COVID-19 pandemic. And if you would know a little about it, you would have heard about **SARS-CoV-2** (Severe Acute Respiratory Syndrome Coronavirus 2) which is the virus responsible for the COVID-19 disease.\n",
        "\n",
        "A little biology might intrigue you further. This SARS-CoV-2 is a RNA virus and when this virus enters your body, it interacts with the ACE-2 receptor using its Spike protein. When this happens, it gets access to be able to multiply inside your body, ultimately resulting in you getting infected with the COVID-19 disease.\n",
        "\n",
        "Before I explain you the details of the project and what you will be doing, let me first introduce you to what a virus genome is. Every living organism in this world has someting called a Nucleus which produces its characteristic genome sequence. Even your body has a genome and it will be very different from that of lets say a cat. Now, this SARS-CoV-2 virus also has its characteristic genome sequence and it is roughly of the length 29000 bases. A little more Class 9 biology lesson: Each genome is built up with just 4 characters called bases (A, T, G and C).\n",
        "\n",
        "For this project, I will provide you with some SARS-CoV-2 genomes collected from infected people in India and you will use just the Visualization techniques you learnt in the module to analyze the genomes and infer the spread of the COVID-19 disease in the country."
      ]
    },
    {
      "cell_type": "markdown",
      "metadata": {
        "id": "xIiHGVQKnY1t"
      },
      "source": [
        "685 genome sequences from India downloaded from GISAID (https://www.gisaid.org/) in early to mid 2020 have been provided to you in the _sequences.fasta_ file and some cleaned metadata regarding these sequences has been given in the _INDIA_685.csv_ file.\n",
        "\n",
        "\n",
        "> Please download the required files from [here](https://drive.google.com/file/d/1dYlfg9j1oq0Wxi7epmHUP2NAgqemUCQc/view?usp=sharing) and upload when asked."
      ]
    },
    {
      "cell_type": "code",
      "execution_count": null,
      "metadata": {
        "id": "A2OHuH6nnRD_"
      },
      "outputs": [],
      "source": [
        "from google.colab import files"
      ]
    },
    {
      "cell_type": "code",
      "execution_count": null,
      "metadata": {
        "id": "W7D95iElWxS_"
      },
      "outputs": [],
      "source": [
        "# Upload Module2_ProjectFiles.zip file here by running this cell\n",
        "\n",
        "uploaded = files.upload('/Users/apple/Desktop/ML/Module2_ProjectFiles')\n",
        "loc_ = list(uploaded.keys())[0]\n",
        "!unzip -q {loc_}"
      ]
    },
    {
      "cell_type": "code",
      "execution_count": null,
      "metadata": {
        "colab": {
          "base_uri": "https://localhost:8080/"
        },
        "id": "eZqOz_ZDoBBz",
        "outputId": "23812b10-3798-4beb-e48e-feab2639cf7d"
      },
      "outputs": [
        {
          "name": "stdout",
          "output_type": "stream",
          "text": [
            "\n",
            "\u001b[1m[\u001b[0m\u001b[34;49mnotice\u001b[0m\u001b[1;39;49m]\u001b[0m\u001b[39;49m A new release of pip is available: \u001b[0m\u001b[31;49m23.1.2\u001b[0m\u001b[39;49m -> \u001b[0m\u001b[32;49m23.3.1\u001b[0m\n",
            "\u001b[1m[\u001b[0m\u001b[34;49mnotice\u001b[0m\u001b[1;39;49m]\u001b[0m\u001b[39;49m To update, run: \u001b[0m\u001b[32;49mpython3.11 -m pip install --upgrade pip\u001b[0m\n"
          ]
        },
        {
          "name": "stderr",
          "output_type": "stream",
          "text": [
            "/var/folders/5q/05l5lt512wb211kc70mkqccw0000gn/T/ipykernel_3393/4048425673.py:6: TqdmWarning: IProgress not found. Please update jupyter and ipywidgets. See https://ipywidgets.readthedocs.io/en/stable/user_install.html\n",
            "  from tqdm.autonotebook import tqdm\n"
          ]
        }
      ],
      "source": [
        "!pip3 -q install biopython\n",
        "\n",
        "import pandas as pd\n",
        "import numpy as np\n",
        "from Bio import SeqIO\n",
        "from tqdm.autonotebook import tqdm"
      ]
    },
    {
      "cell_type": "code",
      "execution_count": null,
      "metadata": {
        "colab": {
          "base_uri": "https://localhost:8080/",
          "height": 571
        },
        "id": "fb2dcglpoBIs",
        "outputId": "f2aad7fd-7b59-4973-cfc5-89a77ff0b5c1"
      },
      "outputs": [
        {
          "data": {
            "text/html": [
              "<div>\n",
              "<style scoped>\n",
              "    .dataframe tbody tr th:only-of-type {\n",
              "        vertical-align: middle;\n",
              "    }\n",
              "\n",
              "    .dataframe tbody tr th {\n",
              "        vertical-align: top;\n",
              "    }\n",
              "\n",
              "    .dataframe thead th {\n",
              "        text-align: right;\n",
              "    }\n",
              "</style>\n",
              "<table border=\"1\" class=\"dataframe\">\n",
              "  <thead>\n",
              "    <tr style=\"text-align: right;\">\n",
              "      <th></th>\n",
              "      <th>StrainID</th>\n",
              "      <th>Accession_ID</th>\n",
              "      <th>Location</th>\n",
              "      <th>State</th>\n",
              "      <th>Host</th>\n",
              "      <th>Gender</th>\n",
              "      <th>Patient age</th>\n",
              "      <th>Patient status</th>\n",
              "      <th>Collection_date</th>\n",
              "      <th>Originating lab</th>\n",
              "      <th>Authors</th>\n",
              "      <th>Nuc_muts</th>\n",
              "    </tr>\n",
              "  </thead>\n",
              "  <tbody>\n",
              "    <tr>\n",
              "      <th>680</th>\n",
              "      <td>hCoV-19/India/nimh-2873/2020|EPI_ISL_436137|20...</td>\n",
              "      <td>EPI_ISL_436137</td>\n",
              "      <td>Asia / India / Karnataka</td>\n",
              "      <td>Karnataka</td>\n",
              "      <td>Human</td>\n",
              "      <td>Female</td>\n",
              "      <td>28</td>\n",
              "      <td>Asymptomatic</td>\n",
              "      <td>2020-04-21</td>\n",
              "      <td>District Surveillance Unit</td>\n",
              "      <td>Chitra Pattabiraman, Vijayalakshmi Reddy, Hars...</td>\n",
              "      <td>['C1281T', 'C4158T', 'G11083T', 'C13730T', 'C2...</td>\n",
              "    </tr>\n",
              "    <tr>\n",
              "      <th>681</th>\n",
              "      <td>hCoV-19/India/nimh-3952/2020|EPI_ISL_436138|20...</td>\n",
              "      <td>EPI_ISL_436138</td>\n",
              "      <td>Asia / India / Karnataka</td>\n",
              "      <td>Karnataka</td>\n",
              "      <td>Human</td>\n",
              "      <td>Male</td>\n",
              "      <td>38</td>\n",
              "      <td>Asymptomatic</td>\n",
              "      <td>2020-04-23</td>\n",
              "      <td>District Surveillance Unit</td>\n",
              "      <td>Chitra Pattabiraman, Vijayalakshmi Reddy, Hars...</td>\n",
              "      <td>['C241T', 'C3037T', 'C3634T', 'A3742G', 'C1440...</td>\n",
              "    </tr>\n",
              "    <tr>\n",
              "      <th>682</th>\n",
              "      <td>hCoV-19/India/nimh-3970/2020|EPI_ISL_436139|20...</td>\n",
              "      <td>EPI_ISL_436139</td>\n",
              "      <td>Asia / India / Karnataka</td>\n",
              "      <td>Karnataka</td>\n",
              "      <td>Human</td>\n",
              "      <td>Male</td>\n",
              "      <td>20</td>\n",
              "      <td>Symptomatic</td>\n",
              "      <td>2020-04-23</td>\n",
              "      <td>District Surveillance Unit</td>\n",
              "      <td>Chitra Pattabiraman, Vijayalakshmi Reddy, Hars...</td>\n",
              "      <td>['C241T', 'C3037T', 'C3634T', 'A3742G', 'C1440...</td>\n",
              "    </tr>\n",
              "    <tr>\n",
              "      <th>683</th>\n",
              "      <td>hCoV-19/India/nimh-4376/2020|EPI_ISL_436140|20...</td>\n",
              "      <td>EPI_ISL_436140</td>\n",
              "      <td>Asia / India / Karnataka</td>\n",
              "      <td>Karnataka</td>\n",
              "      <td>Human</td>\n",
              "      <td>Female</td>\n",
              "      <td>52</td>\n",
              "      <td>Asymptomatic</td>\n",
              "      <td>2020-04-24</td>\n",
              "      <td>District Surveillance Unit</td>\n",
              "      <td>Chitra Pattabiraman, Vijayalakshmi Reddy, Hars...</td>\n",
              "      <td>['C241T', 'C3037T', 'C3634T', 'A3742G', 'C1440...</td>\n",
              "    </tr>\n",
              "    <tr>\n",
              "      <th>684</th>\n",
              "      <td>hCoV-19/India/nimh-4378/2020|EPI_ISL_436141|20...</td>\n",
              "      <td>EPI_ISL_436141</td>\n",
              "      <td>Asia / India / Karnataka</td>\n",
              "      <td>Karnataka</td>\n",
              "      <td>Human</td>\n",
              "      <td>Female</td>\n",
              "      <td>27</td>\n",
              "      <td>Asymptomatic</td>\n",
              "      <td>2020-04-24</td>\n",
              "      <td>District Surveillance Unit</td>\n",
              "      <td>Chitra Pattabiraman, Vijayalakshmi Reddy, Hars...</td>\n",
              "      <td>['C241T', 'C3037T', 'C3634T', 'A3742G', 'C1440...</td>\n",
              "    </tr>\n",
              "  </tbody>\n",
              "</table>\n",
              "</div>"
            ],
            "text/plain": [
              "                                              StrainID    Accession_ID  \\\n",
              "680  hCoV-19/India/nimh-2873/2020|EPI_ISL_436137|20...  EPI_ISL_436137   \n",
              "681  hCoV-19/India/nimh-3952/2020|EPI_ISL_436138|20...  EPI_ISL_436138   \n",
              "682  hCoV-19/India/nimh-3970/2020|EPI_ISL_436139|20...  EPI_ISL_436139   \n",
              "683  hCoV-19/India/nimh-4376/2020|EPI_ISL_436140|20...  EPI_ISL_436140   \n",
              "684  hCoV-19/India/nimh-4378/2020|EPI_ISL_436141|20...  EPI_ISL_436141   \n",
              "\n",
              "                     Location      State   Host  Gender Patient age  \\\n",
              "680  Asia / India / Karnataka  Karnataka  Human  Female          28   \n",
              "681  Asia / India / Karnataka  Karnataka  Human    Male          38   \n",
              "682  Asia / India / Karnataka  Karnataka  Human    Male          20   \n",
              "683  Asia / India / Karnataka  Karnataka  Human  Female          52   \n",
              "684  Asia / India / Karnataka  Karnataka  Human  Female          27   \n",
              "\n",
              "    Patient status Collection_date             Originating lab  \\\n",
              "680   Asymptomatic      2020-04-21  District Surveillance Unit   \n",
              "681   Asymptomatic      2020-04-23  District Surveillance Unit   \n",
              "682    Symptomatic      2020-04-23  District Surveillance Unit   \n",
              "683   Asymptomatic      2020-04-24  District Surveillance Unit   \n",
              "684   Asymptomatic      2020-04-24  District Surveillance Unit   \n",
              "\n",
              "                                               Authors  \\\n",
              "680  Chitra Pattabiraman, Vijayalakshmi Reddy, Hars...   \n",
              "681  Chitra Pattabiraman, Vijayalakshmi Reddy, Hars...   \n",
              "682  Chitra Pattabiraman, Vijayalakshmi Reddy, Hars...   \n",
              "683  Chitra Pattabiraman, Vijayalakshmi Reddy, Hars...   \n",
              "684  Chitra Pattabiraman, Vijayalakshmi Reddy, Hars...   \n",
              "\n",
              "                                              Nuc_muts  \n",
              "680  ['C1281T', 'C4158T', 'G11083T', 'C13730T', 'C2...  \n",
              "681  ['C241T', 'C3037T', 'C3634T', 'A3742G', 'C1440...  \n",
              "682  ['C241T', 'C3037T', 'C3634T', 'A3742G', 'C1440...  \n",
              "683  ['C241T', 'C3037T', 'C3634T', 'A3742G', 'C1440...  \n",
              "684  ['C241T', 'C3037T', 'C3634T', 'A3742G', 'C1440...  "
            ]
          },
          "execution_count": 2,
          "metadata": {},
          "output_type": "execute_result"
        }
      ],
      "source": [
        "data = pd.read_csv(\"/Users/apple/Desktop/ML/Module2_ProjectFiles/INDIA_685.csv\")\n",
        "data.tail()"
      ]
    },
    {
      "cell_type": "code",
      "execution_count": null,
      "metadata": {
        "colab": {
          "base_uri": "https://localhost:8080/"
        },
        "id": "CXBttf4aoBLy",
        "outputId": "df4c7a79-62ef-4281-c248-1fee3412f2bd"
      },
      "outputs": [
        {
          "name": "stdout",
          "output_type": "stream",
          "text": [
            "Number of sequences is: 685\n"
          ]
        }
      ],
      "source": [
        "fasta_sequences = SeqIO.parse(open(\"/Users/apple/Desktop/ML/Module2_ProjectFiles/sequences.fasta\"),'fasta')\n",
        "\n",
        "counter = 0\n",
        "for fasta in fasta_sequences:\n",
        "    counter +=1\n",
        "\n",
        "print(\"Number of sequences is:\", counter)"
      ]
    },
    {
      "cell_type": "markdown",
      "metadata": {
        "id": "LN32UzxtoJ11"
      },
      "source": [
        "You might have heard in the news that the SARS-CoV-2 is mutating and might have heard the words Double Mutant, Delta Variant and so on. These are nothing but very slight differences in the genomes caused due to Mutations. Some of these mutations end up making the virus deadlier or more infectious.\n",
        "\n",
        "Our goal here is to analyze these genomes and find the ones closer to one another (similar mutations in both) or distant (different profile of mutations). These mutations in turn help us to understand the spread of the Virus and the Demographics of it. Imagine a sequence from Italy has the same set of 10 random mutations as a sequence in India. We can then infer that the source of infection for both the people could be the same. This sort of analysis helps us analyze hotspots and predict if a large outbreak is about to happen.\n",
        "\n",
        "We will try to look at these genome sequences and be able to cluster similar ones together and distant ones furhter away. In this project you will be using two methods to do this:\n",
        "\n",
        "**1. k-mer based methods** <br>\n",
        "**2. Mutation Profile based methods**"
      ]
    },
    {
      "cell_type": "markdown",
      "metadata": {
        "id": "KG-Wrc18oNTz"
      },
      "source": [
        "# kmer based methods\n",
        "\n",
        "In bioinformatics, k-mers are substrings of length k contained within a biological sequence. A sequence of length L will have ```L-k+1 k-mers``` and ```4^k total possible k-mers```. Here we, will be using kmers of size 7. We will represent each genome in this kmer space. Basically a genome of size 30000 bases would have a total of 29994 7-mers.\n",
        "\n",
        "**Now how do you use this information to cluster genome sequences?** <br>\n",
        "We would be looking at the counts of different kmers in the genomes and the ones which have similar counts for different kmers should end up closer than the others.\n",
        "\n",
        "For **k=7**, there are **16384** possible kmers. We will represent each genome sequence as a vector of size 16384 with each position scoring the frequency of the kmer corresponding to that position.\n",
        "\n",
        "**But how do we find out the position in the array for a kmer?**<br>\n",
        "We will be using a hash function to map each kmer to a position in the array (0 to 16383). Whenever that kmer will be observed in a sequence, the value at the corresponding position in the array would be increased by 1.\n",
        "\n",
        "#### Hash function:\n",
        "\n",
        "A: 0 <br>\n",
        "G: 1<br>\n",
        "T: 2<br>\n",
        "C: 3<br>\n",
        "\n",
        "Multiply the character value by ```4^(position of the character in the kmer)``` <br>\n",
        "therefore, TAG would equal = (4^0 * 2) + (4^1 * 0) + (4^2 * 1) = 2 + 0 + 16 = 18\n",
        "\n",
        "**Can you find out the hash value for CATCGAG?**"
      ]
    },
    {
      "cell_type": "code",
      "execution_count": null,
      "metadata": {
        "colab": {
          "base_uri": "https://localhost:8080/"
        },
        "id": "sddXsg9QoFIr",
        "outputId": "f5d069ed-c6ea-4515-d632-ebb21919c01e"
      },
      "outputs": [
        {
          "data": {
            "text/plain": [
              "(0, 4680)"
            ]
          },
          "execution_count": 5,
          "metadata": {},
          "output_type": "execute_result"
        }
      ],
      "source": [
        "def calc_score(examplesequence):\n",
        "\n",
        "    position = 0\n",
        "    score = 0\n",
        "    value = 0\n",
        "    flag = 0\n",
        "\n",
        "    for base in examplesequence:\n",
        "\n",
        "        if(base == \"A\" or base == \"a\"):\n",
        "            value = 0\n",
        "        elif(base == \"G\" or base == \"g\"):\n",
        "            value = 1\n",
        "        elif(base == \"T\" or base == \"t\"):\n",
        "            value = 2\n",
        "        elif(base == \"C\" or base == \"c\"):\n",
        "            value = 3\n",
        "        else:\n",
        "            flag=1\n",
        "\n",
        "        score += (4 ** position)* value\n",
        "        position+=1\n",
        "\n",
        "    return (flag,score)\n",
        "\n",
        "calc_score(\"ATAGTAG\")"
      ]
    },
    {
      "cell_type": "markdown",
      "metadata": {
        "id": "4n8pNu-F3dnw"
      },
      "source": [
        "HASH value for CATCGAG"
      ]
    },
    {
      "cell_type": "code",
      "execution_count": null,
      "metadata": {
        "id": "GQcA27cg3dnw",
        "outputId": "89c1eccd-a991-4e8a-b473-82294a2f7f37"
      },
      "outputs": [
        {
          "name": "stdout",
          "output_type": "stream",
          "text": [
            "Flag: 0, Hash Value: 4579\n"
          ]
        }
      ],
      "source": [
        "result_flag, hash_value = calc_score(\"CATCGAG\")\n",
        "print(\"Flag: {}, Hash Value: {}\".format(result_flag, hash_value))\n"
      ]
    },
    {
      "cell_type": "code",
      "execution_count": null,
      "metadata": {
        "colab": {
          "base_uri": "https://localhost:8080/",
          "height": 49,
          "referenced_widgets": [
            "b019c5623c4c4dab91a863ae2277cd94",
            "69c0eb58f9e642d590afd38dcc61a292",
            "d89dcf4579df40c0ad4e7ffd0639538f",
            "523af45f0d744f2992eb1bf1e802f990",
            "7dd6fa74ead04ff0a5597618b4c2f443",
            "91ea75db70414a94be8d41a606e5e2a4",
            "7d7dceb0a68a4fd18ca9ec9d563014eb",
            "639be8d1915a465a9dc01a336aff51c2",
            "013076a0c91d49848e733e5c4b72e498",
            "4aab43c293774149a518b549780ca57d",
            "143e346ab62c4fd7acd615a64d32a8bd"
          ]
        },
        "id": "IfZYG8IxoFLZ",
        "outputId": "a851ebfb-6b51-4e63-c27b-cb2789247285"
      },
      "outputs": [
        {
          "name": "stderr",
          "output_type": "stream",
          "text": [
            "685it [00:20, 33.96it/s]\n"
          ]
        }
      ],
      "source": [
        "k=7\n",
        "big_matrix = []\n",
        "sequences_name = []\n",
        "\n",
        "fasta_sequences = SeqIO.parse(open(\"/Users/apple/Desktop/IIIT_Hyderabad_Python/Module2_ProjectFiles/sequences.fasta\"),'fasta')\n",
        "\n",
        "for fasta in tqdm(fasta_sequences):\n",
        "\n",
        "    embedding = np.zeros(4**k, dtype=int)\n",
        "    sequence = str(fasta.seq)\n",
        "    sequence_name = fasta.id\n",
        "    sequences_name.append(sequence_name)\n",
        "\n",
        "    for j in range(len(sequence)-k+1):\n",
        "        kmer = sequence[j:j+k]\n",
        "        flag,score = calc_score(kmer)\n",
        "        if(flag!=1):\n",
        "            embedding[score]+=1\n",
        "\n",
        "    embedding = embedding.tolist()\n",
        "    big_matrix.append(embedding)"
      ]
    },
    {
      "cell_type": "code",
      "execution_count": null,
      "metadata": {
        "colab": {
          "base_uri": "https://localhost:8080/"
        },
        "id": "ny9at6TVoFN6",
        "outputId": "903db850-b350-451d-905e-1a2cc673f541"
      },
      "outputs": [
        {
          "name": "stdout",
          "output_type": "stream",
          "text": [
            "Number of sequences: 685\n",
            "Number of features for each sequence: 16384\n"
          ]
        }
      ],
      "source": [
        "print(\"Number of sequences:\", len(sequences_name))\n",
        "print(\"Number of features for each sequence:\", len(big_matrix[0]))"
      ]
    },
    {
      "cell_type": "markdown",
      "metadata": {
        "id": "clSklu6EofaE"
      },
      "source": [
        "So essentially we reduced a **29000 base sequence** into a **vector of size 16384**. Now we need to further reduce the dimensionality to 2 or 3 dimensions to be able to visualize it.\n",
        "\n",
        "**But how dow we do that??**\n",
        "\n",
        "We can use any of the methods taught to you in the Labs. But here I will explain how to do this using PCA. Then you will use the knowledge from Lab3 on t-SNE to do a similar analysis yourself.\n",
        "\n",
        "### PCA"
      ]
    },
    {
      "cell_type": "code",
      "execution_count": null,
      "metadata": {
        "id": "k6XZ2uOtodUe"
      },
      "outputs": [],
      "source": [
        "from sklearn.decomposition import PCA\n",
        "\n",
        "pca = PCA() # create a PCA object\n",
        "pca.fit(big_matrix) # do the math\n",
        "pca_data = pca.transform(big_matrix) # get PCA coordinates for the matrix"
      ]
    },
    {
      "cell_type": "code",
      "execution_count": null,
      "metadata": {
        "colab": {
          "base_uri": "https://localhost:8080/",
          "height": 773
        },
        "id": "UHbpD3-oodXA",
        "outputId": "ccbbd7ae-6323-4649-9ef9-742e4fb3c8a6"
      },
      "outputs": [
        {
          "data": {
            "image/png": "[encoded data removed]",
            "text/plain": [
              "<Figure size 1500x900 with 1 Axes>"
            ]
          },
          "metadata": {},
          "output_type": "display_data"
        }
      ],
      "source": [
        "import matplotlib.pyplot as plt\n",
        "\n",
        "per_var = np.round(pca.explained_variance_ratio_* 100, decimals=1)\n",
        "labels_all = ['PC'+str(x) for x in range(1, len(per_var)+1)]\n",
        "per_var=per_var[:10]\n",
        "labels = [str(x) for x in range(1, len(per_var)+1)]\n",
        "\n",
        "with plt.style.context('dark_background'):\n",
        "    plt.figure(figsize = (15, 9))\n",
        "    plt.xlabel(\"Number of Principal Components\")\n",
        "    plt.ylabel(\"Percentage of variance explained\")\n",
        "    plt.bar(range(1,len(per_var)+1), per_var, tick_label=labels, color = \"aqua\")\n",
        "    plt.plot(range(1,len(per_var)+1), np.cumsum(per_var), color = \"red\")\n",
        "    plt.scatter(range(1,len(per_var)+1), np.cumsum(per_var), color = \"yellow\")"
      ]
    },
    {
      "cell_type": "markdown",
      "metadata": {
        "id": "rHLyNlYaooVO"
      },
      "source": [
        "As you can see, the first principal component alone explains more than 50% of the variance in the dataset. To put this into context, more than **50% variance in 685 genomes of size 29000 bases could be explained with just one dimension**. This shows the amount of structure present in the dataset.\n",
        "\n",
        "We will be now visualizing the first 2 principal components and plot the genomes according to the State they belonged to."
      ]
    },
    {
      "cell_type": "code",
      "execution_count": null,
      "metadata": {
        "colab": {
          "base_uri": "https://localhost:8080/",
          "height": 206
        },
        "id": "NunbP88XodZ0",
        "outputId": "70a9cafd-84cc-470f-85fd-8ae893ed9c8e"
      },
      "outputs": [
        {
          "name": "stderr",
          "output_type": "stream",
          "text": [
            "/var/folders/5q/05l5lt512wb211kc70mkqccw0000gn/T/ipykernel_3393/1912756738.py:14: FutureWarning: The behavior of DataFrame concatenation with empty or all-NA entries is deprecated. In a future version, this will no longer exclude empty or all-NA columns when determining the result dtypes. To retain the old behavior, exclude the relevant entries before the concat operation.\n",
            "  final_df = pd.concat([final_df, pd.DataFrame([dicti])], ignore_index=True)\n"
          ]
        },
        {
          "data": {
            "text/html": [
              "<div>\n",
              "<style scoped>\n",
              "    .dataframe tbody tr th:only-of-type {\n",
              "        vertical-align: middle;\n",
              "    }\n",
              "\n",
              "    .dataframe tbody tr th {\n",
              "        vertical-align: top;\n",
              "    }\n",
              "\n",
              "    .dataframe thead th {\n",
              "        text-align: right;\n",
              "    }\n",
              "</style>\n",
              "<table border=\"1\" class=\"dataframe\">\n",
              "  <thead>\n",
              "    <tr style=\"text-align: right;\">\n",
              "      <th></th>\n",
              "      <th>StrainID</th>\n",
              "      <th>PC1</th>\n",
              "      <th>PC2</th>\n",
              "      <th>PC3</th>\n",
              "      <th>State</th>\n",
              "    </tr>\n",
              "  </thead>\n",
              "  <tbody>\n",
              "    <tr>\n",
              "      <th>0</th>\n",
              "      <td>hCoV-19/India/763/2020|EPI_ISL_420543|2020-03-03</td>\n",
              "      <td>-4.326235</td>\n",
              "      <td>-3.484139</td>\n",
              "      <td>-1.786329</td>\n",
              "      <td>Stateless</td>\n",
              "    </tr>\n",
              "    <tr>\n",
              "      <th>1</th>\n",
              "      <td>hCoV-19/India/770/2020|EPI_ISL_420545|2020-03-03</td>\n",
              "      <td>-4.234399</td>\n",
              "      <td>-3.509996</td>\n",
              "      <td>-1.804263</td>\n",
              "      <td>Stateless</td>\n",
              "    </tr>\n",
              "    <tr>\n",
              "      <th>2</th>\n",
              "      <td>hCoV-19/India/772/2020|EPI_ISL_420547|2020-03-03</td>\n",
              "      <td>-4.184090</td>\n",
              "      <td>-3.754896</td>\n",
              "      <td>-1.696688</td>\n",
              "      <td>Stateless</td>\n",
              "    </tr>\n",
              "    <tr>\n",
              "      <th>3</th>\n",
              "      <td>hCoV-19/India/773/2020|EPI_ISL_420549|2020-03-03</td>\n",
              "      <td>-4.194559</td>\n",
              "      <td>-3.531680</td>\n",
              "      <td>-1.895380</td>\n",
              "      <td>Stateless</td>\n",
              "    </tr>\n",
              "    <tr>\n",
              "      <th>4</th>\n",
              "      <td>hCoV-19/India/777/2020|EPI_ISL_420551|2020-03-03</td>\n",
              "      <td>-4.186462</td>\n",
              "      <td>-3.550434</td>\n",
              "      <td>-1.888697</td>\n",
              "      <td>Stateless</td>\n",
              "    </tr>\n",
              "  </tbody>\n",
              "</table>\n",
              "</div>"
            ],
            "text/plain": [
              "                                           StrainID       PC1       PC2  \\\n",
              "0  hCoV-19/India/763/2020|EPI_ISL_420543|2020-03-03 -4.326235 -3.484139   \n",
              "1  hCoV-19/India/770/2020|EPI_ISL_420545|2020-03-03 -4.234399 -3.509996   \n",
              "2  hCoV-19/India/772/2020|EPI_ISL_420547|2020-03-03 -4.184090 -3.754896   \n",
              "3  hCoV-19/India/773/2020|EPI_ISL_420549|2020-03-03 -4.194559 -3.531680   \n",
              "4  hCoV-19/India/777/2020|EPI_ISL_420551|2020-03-03 -4.186462 -3.550434   \n",
              "\n",
              "        PC3      State  \n",
              "0 -1.786329  Stateless  \n",
              "1 -1.804263  Stateless  \n",
              "2 -1.696688  Stateless  \n",
              "3 -1.895380  Stateless  \n",
              "4 -1.888697  Stateless  "
            ]
          },
          "execution_count": 15,
          "metadata": {},
          "output_type": "execute_result"
        }
      ],
      "source": [
        "final_df = pd.DataFrame(columns=[\"StrainID\", \"PC1\", \"PC2\", \"PC3\", \"State\"])\n",
        "pca_df = pd.DataFrame(pca_data, index=[*sequences_name], columns = labels_all)\n",
        "\n",
        "for sample in pca_df.index:\n",
        "\n",
        "    dicti = dict()\n",
        "\n",
        "    dicti[\"StrainID\"] = sample\n",
        "    dicti[\"PC1\"] = pca_df.PC1.loc[sample]\n",
        "    dicti[\"PC2\"] = pca_df.PC2.loc[sample]\n",
        "    dicti[\"PC3\"] = pca_df.PC3.loc[sample]\n",
        "    dicti[\"State\"] = data[data[\"StrainID\"]==sample][\"State\"].tolist()[0]\n",
        "\n",
        "    final_df = pd.concat([final_df, pd.DataFrame([dicti])], ignore_index=True)\n",
        "\n",
        "final_df.head()"
      ]
    },
    {
      "cell_type": "code",
      "execution_count": null,
      "metadata": {
        "id": "rzUxyucCosjg"
      },
      "outputs": [],
      "source": [
        "import plotly.graph_objs as go\n",
        "import plotly.express as px"
      ]
    },
    {
      "cell_type": "code",
      "execution_count": null,
      "metadata": {
        "id": "PIwDqixTosm9"
      },
      "outputs": [],
      "source": [
        "for_x = final_df.PC1.tolist()\n",
        "for_y = final_df.PC2.tolist()\n",
        "for_states = final_df.State.tolist()\n",
        "for_hover = final_df.StrainID.tolist()\n",
        "\n",
        "fig = px.scatter(x=for_x, y=for_y, color=for_states, title=\"Principal Component Axis\",\n",
        "                color_discrete_map={\n",
        "                \"Stateless\": \"grey\",\n",
        "                \"Tamil Nadu\": \"green\",\n",
        "                \"Telangana\": \"red\",\n",
        "                \"Maharashtra\": \"orange\",\n",
        "                \"Gujarat\": \"magenta\",\n",
        "                \"Delhi\": \"purple\",\n",
        "                \"West Bengal\": \"aqua\",\n",
        "                \"Haryana\": \"pink\",\n",
        "                \"Odisha\": \"blue\",\n",
        "                \"Madhya Pradesh\": \"brown\",\n",
        "                \"Karnataka\": \"black\"\n",
        "                })\n",
        "\n",
        "fig.show(renderer = \"colab\")"
      ]
    },
    {
      "cell_type": "markdown",
      "metadata": {
        "id": "7T5rVa1fo8Hr"
      },
      "source": [
        "Even though the plot looks densely clustered, there are still a lot of obvious observations that you should be able to make.\n",
        "\n",
        "### The first one, is that for some reason the Blue dots (Odisha) are scattered away from the big main cluster.\n",
        "\n",
        "![image.png](data:image/png;base64,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)\n",
        "\n",
        "### Also, we can observe a secondary cluster away from the primary cluster. On inspecting, we can see that the sequences forming this cluster are primarily from Telangana (red), Delhi (magenta), and Tamil Nadu (green).\n",
        "\n",
        "![image.png](data:image/png;base64,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)\n",
        "\n",
        "### The third less obvious observation is that within the main cluster, there is a dense cluster of sequences from Gujarat.\n",
        "\n",
        "![image.png](data:image/png;base64,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)"
      ]
    },
    {
      "cell_type": "markdown",
      "metadata": {
        "id": "8Z_H5O0epB43"
      },
      "source": [
        "## t-SNE"
      ]
    },
    {
      "cell_type": "code",
      "execution_count": null,
      "metadata": {
        "id": "ZAvrdGToosqU"
      },
      "outputs": [],
      "source": [
        "from sklearn.manifold import TSNE\n",
        "\n",
        "# Use these parameters\n",
        "random_state = 0\n",
        "n_components = 2\n",
        "perplexity = 30\n",
        "n_iter = 10000\n",
        "\n",
        "####### Enter code below #######\n",
        "\n",
        "model = TSNE(n_components=2, random_state=random_state, perplexity=perplexity, n_iter=n_iter)\n",
        "tsne_data = model.fit_transform(np.array(big_matrix))\n",
        "\n",
        "################################"
      ]
    },
    {
      "cell_type": "code",
      "execution_count": null,
      "metadata": {
        "colab": {
          "base_uri": "https://localhost:8080/",
          "height": 206
        },
        "id": "2LlFxnf4pEZG",
        "outputId": "a691d50f-05d8-4262-ed0f-1e850dc96ef3"
      },
      "outputs": [
        {
          "name": "stderr",
          "output_type": "stream",
          "text": [
            "/var/folders/5q/05l5lt512wb211kc70mkqccw0000gn/T/ipykernel_3393/2683156902.py:14: FutureWarning:\n",
            "\n",
            "The behavior of DataFrame concatenation with empty or all-NA entries is deprecated. In a future version, this will no longer exclude empty or all-NA columns when determining the result dtypes. To retain the old behavior, exclude the relevant entries before the concat operation.\n",
            "\n"
          ]
        },
        {
          "data": {
            "text/html": [
              "<div>\n",
              "<style scoped>\n",
              "    .dataframe tbody tr th:only-of-type {\n",
              "        vertical-align: middle;\n",
              "    }\n",
              "\n",
              "    .dataframe tbody tr th {\n",
              "        vertical-align: top;\n",
              "    }\n",
              "\n",
              "    .dataframe thead th {\n",
              "        text-align: right;\n",
              "    }\n",
              "</style>\n",
              "<table border=\"1\" class=\"dataframe\">\n",
              "  <thead>\n",
              "    <tr style=\"text-align: right;\">\n",
              "      <th></th>\n",
              "      <th>StrainID</th>\n",
              "      <th>X</th>\n",
              "      <th>Y</th>\n",
              "      <th>State</th>\n",
              "    </tr>\n",
              "  </thead>\n",
              "  <tbody>\n",
              "    <tr>\n",
              "      <th>680</th>\n",
              "      <td>hCoV-19/India/MaxCov0046_CSIR-IGIB/2020|EPI_IS...</td>\n",
              "      <td>12.460170</td>\n",
              "      <td>13.572071</td>\n",
              "      <td>Delhi</td>\n",
              "    </tr>\n",
              "    <tr>\n",
              "      <th>681</th>\n",
              "      <td>hCoV-19/India/MaxCov0047_CSIR-IGIB/2020|EPI_IS...</td>\n",
              "      <td>12.390676</td>\n",
              "      <td>14.086516</td>\n",
              "      <td>Delhi</td>\n",
              "    </tr>\n",
              "    <tr>\n",
              "      <th>682</th>\n",
              "      <td>hCoV-19/India/MaxCov0048_CSIR-IGIB/2020|EPI_IS...</td>\n",
              "      <td>12.906859</td>\n",
              "      <td>14.923603</td>\n",
              "      <td>Delhi</td>\n",
              "    </tr>\n",
              "    <tr>\n",
              "      <th>683</th>\n",
              "      <td>hCoV-19/India/MaxCov0049_CSIR-IGIB/2020|EPI_IS...</td>\n",
              "      <td>12.921227</td>\n",
              "      <td>15.538220</td>\n",
              "      <td>Delhi</td>\n",
              "    </tr>\n",
              "    <tr>\n",
              "      <th>684</th>\n",
              "      <td>hCoV-19/India/MaxCov0050_CSIR-IGIB/2020|EPI_IS...</td>\n",
              "      <td>12.924882</td>\n",
              "      <td>13.226389</td>\n",
              "      <td>Delhi</td>\n",
              "    </tr>\n",
              "  </tbody>\n",
              "</table>\n",
              "</div>"
            ],
            "text/plain": [
              "                                              StrainID          X          Y  \\\n",
              "680  hCoV-19/India/MaxCov0046_CSIR-IGIB/2020|EPI_IS...  12.460170  13.572071   \n",
              "681  hCoV-19/India/MaxCov0047_CSIR-IGIB/2020|EPI_IS...  12.390676  14.086516   \n",
              "682  hCoV-19/India/MaxCov0048_CSIR-IGIB/2020|EPI_IS...  12.906859  14.923603   \n",
              "683  hCoV-19/India/MaxCov0049_CSIR-IGIB/2020|EPI_IS...  12.921227  15.538220   \n",
              "684  hCoV-19/India/MaxCov0050_CSIR-IGIB/2020|EPI_IS...  12.924882  13.226389   \n",
              "\n",
              "     State  \n",
              "680  Delhi  \n",
              "681  Delhi  \n",
              "682  Delhi  \n",
              "683  Delhi  \n",
              "684  Delhi  "
            ]
          },
          "execution_count": 41,
          "metadata": {},
          "output_type": "execute_result"
        }
      ],
      "source": [
        "final_df = pd.DataFrame(columns=[\"StrainID\", \"X\", \"Y\", \"State\"])\n",
        "pca_df = pd.DataFrame(pca_data, index=[*sequences_name], columns = labels_all)\n",
        "\n",
        "i = 0\n",
        "for sample in pca_df.index:\n",
        "\n",
        "    dicti = dict()\n",
        "\n",
        "    dicti[\"StrainID\"] = sample\n",
        "    dicti[\"X\"] = tsne_data[i][0]\n",
        "    dicti[\"Y\"] = tsne_data[i][1]\n",
        "    dicti[\"State\"] = data[data[\"StrainID\"]==sample][\"State\"].tolist()[0]\n",
        "\n",
        "    final_df = pd.concat([final_df, pd.DataFrame([dicti])], ignore_index=True)\n",
        "    i+=1\n",
        "\n",
        "final_df.tail()"
      ]
    },
    {
      "cell_type": "code",
      "execution_count": null,
      "metadata": {
        "id": "mvt9sTV73dn1"
      },
      "outputs": [],
      "source": [
        "import plotly.express as px\n",
        "import plotly.io as pio\n",
        "\n",
        "for_x = final_df.X.tolist()\n",
        "for_y = final_df.Y.tolist()\n",
        "for_states = final_df.State.tolist()\n",
        "for_hover = final_df.StrainID.tolist()\n",
        "\n",
        "fig = px.scatter(\n",
        "    x=for_x, y=for_y, color=for_states, title=\"t-SNE\", height=600, width=1000,\n",
        "    color_discrete_map={\n",
        "        \"Stateless\": \"grey\",\n",
        "        \"Tamil Nadu\": \"green\",\n",
        "        \"Telangana\": \"red\",\n",
        "        \"Maharashtra\": \"orange\",\n",
        "        \"Gujarat\": \"magenta\",\n",
        "        \"Delhi\": \"purple\",\n",
        "        \"West Bengal\": \"aqua\",\n",
        "        \"Haryana\": \"pink\",\n",
        "        \"Odisha\": \"blue\",\n",
        "        \"Madhya Pradesh\": \"brown\",\n",
        "        \"Karnataka\": \"black\"\n",
        "    }\n",
        ")\n",
        "\n",
        "pio.show(fig, renderer='browser')\n"
      ]
    },
    {
      "cell_type": "markdown",
      "metadata": {
        "id": "NPHvlw8NaYl5"
      },
      "source": [
        "Does making the 3 observations become easier in this plot? Can you make any other new observations from this plot?\n",
        "\n",
        "Make sure you tweak the parameters to find out if a certain different setting is allowing you to get a more interpretable plot."
      ]
    },
    {
      "cell_type": "markdown",
      "metadata": {
        "id": "R1Nz9Hx63dn1"
      },
      "source": [
        "samples of telangana were far away\n",
        "\n",
        "\n",
        "samples of gujarath are wide spread\n",
        "\n",
        "samples of maharastra were also far away"
      ]
    },
    {
      "cell_type": "markdown",
      "metadata": {
        "id": "ECFR423VpcVd"
      },
      "source": [
        "# Mutation Profile based methods\n",
        "\n",
        "If you would have noticed, there is a column called Nuc_muts (Nucleotide mutations) in the INDIA_685.csv file. These are the specific mutations for each sequence which I have precomputed for you using the first SARS-CoV-2 sequence from Wuhan, China (https://www.ncbi.nlm.nih.gov/nuccore/NC_045512.2?report=fasta) as the reference.\n",
        "\n",
        "A mutation C453T in a sequence means that the original reference sequence from Wuhan had a C at position 453 whereas the sequence has a T at that position.\n",
        "\n",
        "Now instead of using kmers for sequences, this time we will use the **presence/absence of all mutations** found in our dataset to represent the genomes."
      ]
    },
    {
      "cell_type": "code",
      "execution_count": null,
      "metadata": {
        "colab": {
          "base_uri": "https://localhost:8080/"
        },
        "id": "zrbWFyL2pEed",
        "outputId": "ae2ef18e-bbe9-49fc-8fc3-254fc7aab6e1"
      },
      "outputs": [
        {
          "name": "stdout",
          "output_type": "stream",
          "text": [
            "1279\n"
          ]
        }
      ],
      "source": [
        "## First we need to get the list of all unique mutations observed in our dataset.\n",
        "\n",
        "mutations = []\n",
        "for i in range(len(data)):\n",
        "\n",
        "    sample_muts = data[\"Nuc_muts\"][i][1:][:-1].split(\",\")\n",
        "\n",
        "    for j in sample_muts:\n",
        "        mut = j.strip()[1:][:-1]\n",
        "        if(len(mut)>=2):\n",
        "            if(mut not in mutations):\n",
        "                mutations.append(mut)\n",
        "\n",
        "print(len(mutations))"
      ]
    },
    {
      "cell_type": "markdown",
      "metadata": {
        "id": "wHS8f3jCphLc"
      },
      "source": [
        "So there are 1279 unique mutations in our sequences. We can now represent each genome as a ```vector of size 1279 where each position indicates the presence (1) or absence (0) of a specific mutation```."
      ]
    },
    {
      "cell_type": "code",
      "execution_count": null,
      "metadata": {
        "colab": {
          "base_uri": "https://localhost:8080/",
          "height": 235
        },
        "id": "uR3nnmgMpEhu",
        "outputId": "1aa26167-df0a-41f4-def0-47e8fc554a24"
      },
      "outputs": [
        {
          "data": {
            "text/html": [
              "<div>\n",
              "<style scoped>\n",
              "    .dataframe tbody tr th:only-of-type {\n",
              "        vertical-align: middle;\n",
              "    }\n",
              "\n",
              "    .dataframe tbody tr th {\n",
              "        vertical-align: top;\n",
              "    }\n",
              "\n",
              "    .dataframe thead th {\n",
              "        text-align: right;\n",
              "    }\n",
              "</style>\n",
              "<table border=\"1\" class=\"dataframe\">\n",
              "  <thead>\n",
              "    <tr style=\"text-align: right;\">\n",
              "      <th></th>\n",
              "      <th>0</th>\n",
              "      <th>1</th>\n",
              "      <th>2</th>\n",
              "      <th>3</th>\n",
              "      <th>4</th>\n",
              "      <th>5</th>\n",
              "      <th>6</th>\n",
              "      <th>7</th>\n",
              "      <th>8</th>\n",
              "      <th>9</th>\n",
              "      <th>...</th>\n",
              "      <th>1269</th>\n",
              "      <th>1270</th>\n",
              "      <th>1271</th>\n",
              "      <th>1272</th>\n",
              "      <th>1273</th>\n",
              "      <th>1274</th>\n",
              "      <th>1275</th>\n",
              "      <th>1276</th>\n",
              "      <th>1277</th>\n",
              "      <th>1278</th>\n",
              "    </tr>\n",
              "  </thead>\n",
              "  <tbody>\n",
              "    <tr>\n",
              "      <th>hCoV-19/India/nimh-2873/2020|EPI_ISL_436137|2020-04-21</th>\n",
              "      <td>0</td>\n",
              "      <td>0</td>\n",
              "      <td>0</td>\n",
              "      <td>0</td>\n",
              "      <td>0</td>\n",
              "      <td>0</td>\n",
              "      <td>0</td>\n",
              "      <td>0</td>\n",
              "      <td>0</td>\n",
              "      <td>0</td>\n",
              "      <td>...</td>\n",
              "      <td>0</td>\n",
              "      <td>0</td>\n",
              "      <td>0</td>\n",
              "      <td>0</td>\n",
              "      <td>0</td>\n",
              "      <td>1</td>\n",
              "      <td>0</td>\n",
              "      <td>0</td>\n",
              "      <td>0</td>\n",
              "      <td>0</td>\n",
              "    </tr>\n",
              "    <tr>\n",
              "      <th>hCoV-19/India/nimh-3952/2020|EPI_ISL_436138|2020-04-23</th>\n",
              "      <td>0</td>\n",
              "      <td>0</td>\n",
              "      <td>0</td>\n",
              "      <td>0</td>\n",
              "      <td>0</td>\n",
              "      <td>0</td>\n",
              "      <td>0</td>\n",
              "      <td>0</td>\n",
              "      <td>0</td>\n",
              "      <td>0</td>\n",
              "      <td>...</td>\n",
              "      <td>0</td>\n",
              "      <td>0</td>\n",
              "      <td>0</td>\n",
              "      <td>0</td>\n",
              "      <td>0</td>\n",
              "      <td>0</td>\n",
              "      <td>1</td>\n",
              "      <td>1</td>\n",
              "      <td>1</td>\n",
              "      <td>0</td>\n",
              "    </tr>\n",
              "    <tr>\n",
              "      <th>hCoV-19/India/nimh-3970/2020|EPI_ISL_436139|2020-04-23</th>\n",
              "      <td>0</td>\n",
              "      <td>0</td>\n",
              "      <td>0</td>\n",
              "      <td>0</td>\n",
              "      <td>0</td>\n",
              "      <td>0</td>\n",
              "      <td>0</td>\n",
              "      <td>0</td>\n",
              "      <td>0</td>\n",
              "      <td>0</td>\n",
              "      <td>...</td>\n",
              "      <td>0</td>\n",
              "      <td>0</td>\n",
              "      <td>0</td>\n",
              "      <td>0</td>\n",
              "      <td>0</td>\n",
              "      <td>0</td>\n",
              "      <td>1</td>\n",
              "      <td>1</td>\n",
              "      <td>0</td>\n",
              "      <td>1</td>\n",
              "    </tr>\n",
              "    <tr>\n",
              "      <th>hCoV-19/India/nimh-4376/2020|EPI_ISL_436140|2020-04-24</th>\n",
              "      <td>0</td>\n",
              "      <td>0</td>\n",
              "      <td>0</td>\n",
              "      <td>0</td>\n",
              "      <td>0</td>\n",
              "      <td>0</td>\n",
              "      <td>0</td>\n",
              "      <td>0</td>\n",
              "      <td>0</td>\n",
              "      <td>0</td>\n",
              "      <td>...</td>\n",
              "      <td>0</td>\n",
              "      <td>0</td>\n",
              "      <td>0</td>\n",
              "      <td>0</td>\n",
              "      <td>0</td>\n",
              "      <td>0</td>\n",
              "      <td>1</td>\n",
              "      <td>1</td>\n",
              "      <td>0</td>\n",
              "      <td>0</td>\n",
              "    </tr>\n",
              "    <tr>\n",
              "      <th>hCoV-19/India/nimh-4378/2020|EPI_ISL_436141|2020-04-24</th>\n",
              "      <td>0</td>\n",
              "      <td>0</td>\n",
              "      <td>0</td>\n",
              "      <td>0</td>\n",
              "      <td>0</td>\n",
              "      <td>0</td>\n",
              "      <td>0</td>\n",
              "      <td>0</td>\n",
              "      <td>0</td>\n",
              "      <td>0</td>\n",
              "      <td>...</td>\n",
              "      <td>0</td>\n",
              "      <td>0</td>\n",
              "      <td>0</td>\n",
              "      <td>0</td>\n",
              "      <td>0</td>\n",
              "      <td>0</td>\n",
              "      <td>1</td>\n",
              "      <td>1</td>\n",
              "      <td>0</td>\n",
              "      <td>0</td>\n",
              "    </tr>\n",
              "  </tbody>\n",
              "</table>\n",
              "<p>5 rows × 1279 columns</p>\n",
              "</div>"
            ],
            "text/plain": [
              "                                                   0    1    2    3    4     \\\n",
              "hCoV-19/India/nimh-2873/2020|EPI_ISL_436137|202...    0    0    0    0    0   \n",
              "hCoV-19/India/nimh-3952/2020|EPI_ISL_436138|202...    0    0    0    0    0   \n",
              "hCoV-19/India/nimh-3970/2020|EPI_ISL_436139|202...    0    0    0    0    0   \n",
              "hCoV-19/India/nimh-4376/2020|EPI_ISL_436140|202...    0    0    0    0    0   \n",
              "hCoV-19/India/nimh-4378/2020|EPI_ISL_436141|202...    0    0    0    0    0   \n",
              "\n",
              "                                                   5    6    7    8    9     \\\n",
              "hCoV-19/India/nimh-2873/2020|EPI_ISL_436137|202...    0    0    0    0    0   \n",
              "hCoV-19/India/nimh-3952/2020|EPI_ISL_436138|202...    0    0    0    0    0   \n",
              "hCoV-19/India/nimh-3970/2020|EPI_ISL_436139|202...    0    0    0    0    0   \n",
              "hCoV-19/India/nimh-4376/2020|EPI_ISL_436140|202...    0    0    0    0    0   \n",
              "hCoV-19/India/nimh-4378/2020|EPI_ISL_436141|202...    0    0    0    0    0   \n",
              "\n",
              "                                                    ... 1269 1270 1271 1272  \\\n",
              "hCoV-19/India/nimh-2873/2020|EPI_ISL_436137|202...  ...    0    0    0    0   \n",
              "hCoV-19/India/nimh-3952/2020|EPI_ISL_436138|202...  ...    0    0    0    0   \n",
              "hCoV-19/India/nimh-3970/2020|EPI_ISL_436139|202...  ...    0    0    0    0   \n",
              "hCoV-19/India/nimh-4376/2020|EPI_ISL_436140|202...  ...    0    0    0    0   \n",
              "hCoV-19/India/nimh-4378/2020|EPI_ISL_436141|202...  ...    0    0    0    0   \n",
              "\n",
              "                                                   1273 1274 1275 1276 1277  \\\n",
              "hCoV-19/India/nimh-2873/2020|EPI_ISL_436137|202...    0    1    0    0    0   \n",
              "hCoV-19/India/nimh-3952/2020|EPI_ISL_436138|202...    0    0    1    1    1   \n",
              "hCoV-19/India/nimh-3970/2020|EPI_ISL_436139|202...    0    0    1    1    0   \n",
              "hCoV-19/India/nimh-4376/2020|EPI_ISL_436140|202...    0    0    1    1    0   \n",
              "hCoV-19/India/nimh-4378/2020|EPI_ISL_436141|202...    0    0    1    1    0   \n",
              "\n",
              "                                                   1278  \n",
              "hCoV-19/India/nimh-2873/2020|EPI_ISL_436137|202...    0  \n",
              "hCoV-19/India/nimh-3952/2020|EPI_ISL_436138|202...    0  \n",
              "hCoV-19/India/nimh-3970/2020|EPI_ISL_436139|202...    1  \n",
              "hCoV-19/India/nimh-4376/2020|EPI_ISL_436140|202...    0  \n",
              "hCoV-19/India/nimh-4378/2020|EPI_ISL_436141|202...    0  \n",
              "\n",
              "[5 rows x 1279 columns]"
            ]
          },
          "execution_count": 32,
          "metadata": {},
          "output_type": "execute_result"
        }
      ],
      "source": [
        "samplelist = data[\"StrainID\"].tolist()\n",
        "df = pd.DataFrame(columns = [*samplelist])\n",
        "df = df.replace(np.nan,0)\n",
        "\n",
        "for mutation in mutations:\n",
        "\n",
        "    dicti = dict(zip(samplelist, np.zeros(len(samplelist), dtype=int)))\n",
        "\n",
        "    for i in range(len(data)):\n",
        "        flag=0\n",
        "        strainid = data[\"StrainID\"][i]\n",
        "        sample_muts = data[\"Nuc_muts\"][i][1:][:-1].split(\",\")\n",
        "\n",
        "        for j in sample_muts:\n",
        "            mut = j.strip()[1:][:-1]\n",
        "            if(len(mut)>=2):\n",
        "                if(mut == mutation):\n",
        "                    flag = 1\n",
        "                    break\n",
        "\n",
        "        dicti[strainid]=flag\n",
        "\n",
        "    df = pd.concat([df, pd.DataFrame([dicti])], ignore_index=True)\n",
        "\n",
        "df = df.T\n",
        "\n",
        "df.tail()"
      ]
    },
    {
      "cell_type": "markdown",
      "metadata": {
        "id": "V9CIPpHvpmc2"
      },
      "source": [
        "## PCA\n",
        "\n",
        "Performing PCA on this dataframe, we want to reduce the dimensionality of our genome sequences from 1279 to 2."
      ]
    },
    {
      "cell_type": "code",
      "execution_count": null,
      "metadata": {
        "id": "64svk1wEpjYC"
      },
      "outputs": [],
      "source": [
        "pca = PCA()\n",
        "pca.fit(df)\n",
        "pca_data = pca.transform(df)"
      ]
    },
    {
      "cell_type": "code",
      "execution_count": null,
      "metadata": {
        "id": "wTEZQIDGpjbB"
      },
      "outputs": [],
      "source": [
        "per_var = np.round(pca.explained_variance_ratio_* 100, decimals=1)\n",
        "labels_all = ['PC'+str(x) for x in range(1, len(per_var)+1)]\n",
        "per_var=per_var[:10]\n",
        "labels = [str(x) for x in range(1, len(per_var)+1)]\n",
        "\n",
        "with plt.style.context('dark_background'):\n",
        "    plt.figure(figsize = (15, 9))\n",
        "    plt.xlabel(\"Number of Principal Components\")\n",
        "    plt.ylabel(\"Percentage of variance explained\")\n",
        "    plt.bar(range(1,len(per_var)+1), per_var, tick_label=labels, color = \"aqua\")\n",
        "    plt.plot(range(1,len(per_var)+1), np.cumsum(per_var), color = \"red\")\n",
        "    plt.scatter(range(1,len(per_var)+1), np.cumsum(per_var), color = \"yellow\")"
      ]
    },
    {
      "cell_type": "markdown",
      "metadata": {
        "id": "W_w644b-ptLV"
      },
      "source": [
        "The first principal component should be able to capture close to 30% of the variance in the dataset."
      ]
    },
    {
      "cell_type": "code",
      "execution_count": null,
      "metadata": {
        "colab": {
          "base_uri": "https://localhost:8080/",
          "height": 206
        },
        "id": "edpEBZXSpjd2",
        "outputId": "2353ee4d-c08a-4614-ec6f-c64d5110b283"
      },
      "outputs": [
        {
          "name": "stderr",
          "output_type": "stream",
          "text": [
            "/var/folders/5q/05l5lt512wb211kc70mkqccw0000gn/T/ipykernel_3393/1126237342.py:13: FutureWarning:\n",
            "\n",
            "The behavior of DataFrame concatenation with empty or all-NA entries is deprecated. In a future version, this will no longer exclude empty or all-NA columns when determining the result dtypes. To retain the old behavior, exclude the relevant entries before the concat operation.\n",
            "\n"
          ]
        },
        {
          "data": {
            "text/html": [
              "<div>\n",
              "<style scoped>\n",
              "    .dataframe tbody tr th:only-of-type {\n",
              "        vertical-align: middle;\n",
              "    }\n",
              "\n",
              "    .dataframe tbody tr th {\n",
              "        vertical-align: top;\n",
              "    }\n",
              "\n",
              "    .dataframe thead th {\n",
              "        text-align: right;\n",
              "    }\n",
              "</style>\n",
              "<table border=\"1\" class=\"dataframe\">\n",
              "  <thead>\n",
              "    <tr style=\"text-align: right;\">\n",
              "      <th></th>\n",
              "      <th>StrainID</th>\n",
              "      <th>PC1</th>\n",
              "      <th>PC2</th>\n",
              "      <th>State</th>\n",
              "    </tr>\n",
              "  </thead>\n",
              "  <tbody>\n",
              "    <tr>\n",
              "      <th>680</th>\n",
              "      <td>hCoV-19/India/nimh-2873/2020|EPI_ISL_436137|20...</td>\n",
              "      <td>1.530221</td>\n",
              "      <td>0.079550</td>\n",
              "      <td>Karnataka</td>\n",
              "    </tr>\n",
              "    <tr>\n",
              "      <th>681</th>\n",
              "      <td>hCoV-19/India/nimh-3952/2020|EPI_ISL_436138|20...</td>\n",
              "      <td>-1.063943</td>\n",
              "      <td>-0.405022</td>\n",
              "      <td>Karnataka</td>\n",
              "    </tr>\n",
              "    <tr>\n",
              "      <th>682</th>\n",
              "      <td>hCoV-19/India/nimh-3970/2020|EPI_ISL_436139|20...</td>\n",
              "      <td>-1.058232</td>\n",
              "      <td>-0.410670</td>\n",
              "      <td>Karnataka</td>\n",
              "    </tr>\n",
              "    <tr>\n",
              "      <th>683</th>\n",
              "      <td>hCoV-19/India/nimh-4376/2020|EPI_ISL_436140|20...</td>\n",
              "      <td>-1.057465</td>\n",
              "      <td>-0.409620</td>\n",
              "      <td>Karnataka</td>\n",
              "    </tr>\n",
              "    <tr>\n",
              "      <th>684</th>\n",
              "      <td>hCoV-19/India/nimh-4378/2020|EPI_ISL_436141|20...</td>\n",
              "      <td>-1.057465</td>\n",
              "      <td>-0.409620</td>\n",
              "      <td>Karnataka</td>\n",
              "    </tr>\n",
              "  </tbody>\n",
              "</table>\n",
              "</div>"
            ],
            "text/plain": [
              "                                              StrainID       PC1       PC2  \\\n",
              "680  hCoV-19/India/nimh-2873/2020|EPI_ISL_436137|20...  1.530221  0.079550   \n",
              "681  hCoV-19/India/nimh-3952/2020|EPI_ISL_436138|20... -1.063943 -0.405022   \n",
              "682  hCoV-19/India/nimh-3970/2020|EPI_ISL_436139|20... -1.058232 -0.410670   \n",
              "683  hCoV-19/India/nimh-4376/2020|EPI_ISL_436140|20... -1.057465 -0.409620   \n",
              "684  hCoV-19/India/nimh-4378/2020|EPI_ISL_436141|20... -1.057465 -0.409620   \n",
              "\n",
              "         State  \n",
              "680  Karnataka  \n",
              "681  Karnataka  \n",
              "682  Karnataka  \n",
              "683  Karnataka  \n",
              "684  Karnataka  "
            ]
          },
          "execution_count": 47,
          "metadata": {},
          "output_type": "execute_result"
        }
      ],
      "source": [
        "final_df = pd.DataFrame(columns=[\"StrainID\", \"PC1\", \"PC2\", \"State\"])\n",
        "pca_df = pd.DataFrame(pca_data, index=[*samplelist], columns = labels_all)\n",
        "\n",
        "for sample in pca_df.index:\n",
        "\n",
        "    dicti = dict()\n",
        "\n",
        "    dicti[\"StrainID\"] = sample\n",
        "    dicti[\"PC1\"] = pca_df.PC1.loc[sample]\n",
        "    dicti[\"PC2\"] = pca_df.PC2.loc[sample]\n",
        "    dicti[\"State\"] = data[data[\"StrainID\"]==sample][\"State\"].tolist()[0]\n",
        "\n",
        "    final_df = pd.concat([final_df, pd.DataFrame([dicti])], ignore_index=True)\n",
        "\n",
        "final_df.tail()"
      ]
    },
    {
      "cell_type": "code",
      "execution_count": null,
      "metadata": {
        "id": "1TTC9hCppjgp"
      },
      "outputs": [],
      "source": [
        "for_x = final_df.PC1.tolist()\n",
        "for_y = final_df.PC2.tolist()\n",
        "for_states = final_df.State.tolist()\n",
        "for_hover = final_df.StrainID.tolist()\n",
        "\n",
        "fig = px.scatter(x=for_x, y=for_y, color=for_states, height=600, width=1200,\n",
        "                 title=\"Principal Component Axis\",\n",
        "                color_discrete_map={\n",
        "                \"Stateless\": \"grey\",\n",
        "                \"Tamil Nadu\": \"green\",\n",
        "                \"Telangana\": \"red\",\n",
        "                \"Maharashtra\": \"orange\",\n",
        "                \"Gujarat\": \"magenta\",\n",
        "                \"Delhi\": \"purple\",\n",
        "                \"West Bengal\": \"aqua\",\n",
        "                \"Haryana\": \"pink\",\n",
        "                \"Odisha\": \"blue\",\n",
        "                \"Madhya Pradesh\": \"brown\",\n",
        "                \"Karnataka\": \"black\"})\n",
        "fig.show(renderer = 'browser')"
      ]
    },
    {
      "cell_type": "markdown",
      "metadata": {
        "id": "F94yp-3XawCb"
      },
      "source": [
        "This makes the above observations so much easier. Can you list them with respect to this plot?"
      ]
    },
    {
      "cell_type": "markdown",
      "metadata": {
        "id": "4OREWnHn3dn2"
      },
      "source": [
        "samples of gujarath were far away and spread out from each other\n",
        "\n",
        "samples of tekangana were too low"
      ]
    },
    {
      "cell_type": "markdown",
      "metadata": {
        "id": "GAs9P5al3dn2"
      },
      "source": [
        "General criteria for looking into plots"
      ]
    },
    {
      "cell_type": "markdown",
      "metadata": {
        "id": "XwBLFRwN3dn2"
      },
      "source": [
        "Cluster Separation:\n",
        "\n",
        "Examine the plot to see whether any separate point clusters exist. When samples within a cluster are well-separated, it suggests that their PC1 and PC2 values are comparable.\n",
        "\n",
        "Outliers:\n",
        "\n",
        "Keep an eye out for any spots that stand out, or that are distant from the main clusters. Outliers may be samples that are unusual or unique.\n",
        "\n",
        "Color Coding by State:\n",
        "\n",
        "Look at the points that have been color-coded according to the \"State\" variable. Look for notable trends or differences between states. Exist any states that have a propensity to group together?\n",
        "\n",
        "Density of Points:\n",
        "\n",
        "Look at how densely spaced out the points are throughout the plot. Greater density could be a sign of more comparable or sample-rich areas.\n",
        "\n",
        "Stateless Samples:\n",
        "\n",
        "Examine the gray (Stateless) points to determine if they are dispersed over the plot or form a clear cluster.\n",
        "\n",
        "Transitional Regions:\n",
        "\n",
        "To identify transitional zones where samples from various states combine, look for regions that gradually change hue.\n",
        "Overarching Patterns: Determine any overarching patterns or trends within the point distribution. Do the clusters have any particular structures or forms?\n"
      ]
    },
    {
      "cell_type": "markdown",
      "metadata": {
        "id": "fK7u44_Wp9_k"
      },
      "source": [
        "# t-SNE\n",
        "\n",
        "Now this time you will be expected to write more than just 3 lines of the code to get the t-SNE plot for this data. Make sure you play with the **perplexity** values enough to appreciate the algorithm. I hope you are able to retrieve the 3 observations and make some new ones from the plot.\n",
        "\n",
        "---\n",
        "\n",
        "You are encouraged to also implement **ISOMAP (from Lab-4)** and try to get more insights from the plots."
      ]
    },
    {
      "cell_type": "markdown",
      "metadata": {
        "id": "9Z0ZBB-6qCSY"
      },
      "source": [
        "# Conclusion\n",
        "\n",
        "You might be wondering how these 3 observations help in understanding the demographic spread of the virus in the country.\n",
        "\n",
        "### This is not a Bioinformatics course, so you may choose to ignore the details mentioned below\n",
        "But the idea was to motivate you to understand the importance of visualization techniques even with no domain knowlege.\n",
        "\n",
        "---\n",
        "---\n",
        "\n",
        "On performing genetic analysis on the sequences to understand why exactly these observations could have been happening I found the following:\n",
        "\n",
        "#### Observation 1:\n",
        "Samples from Odisha are different than the rest of the country, hence they were scattered away from the clusters in the plots.\n",
        "\n",
        "#### Reason:\n",
        "Genomic sequences of isolates from Odisha were shorter in length with missing bases (deletions); 1 - 29 bases in 5' UTR (38 isolates), 23842 - 24400 bases in S gene, 26306-26524 bases in E gene, 27527 – 28033 bases in ORF7b and ORF8 (8 samples), 28462 - 28680 bases in the N gene (10 samples), 29000 – 29685 in ORF10 gene (15 samples), and 29686 - 29903 bases in 3' UTR (39 isolates). These deletions were unique to the state and werent observed in samples from the rest of the country.\n",
        "\n",
        "#### Observation 2:\n",
        "A secondary cluster away from the primary cluster with sequences from Telangana, Delhi, and Tamil Nadu.\n",
        "\n",
        "#### Reason:\n",
        "About one-third of the Indian isolates (219/685) are part of a subclade I/A3i defined by the co-occurring mutations C6312A, C13730T, C23929T, and C28311T. The subclade's predominance is observed in Telangana (69/97, 71%), Delhi (52/76, 68%), and Tamil Nadu (16/34). Analysis of this subclade is important both scientifically and epidemiologically as the mutations defining it are found in 32% of the Indian samples sequenced, while outside India its distribution is very low (3.5%). This clearly hints at early community transmission due to some super spreader event during March-April, as it is highly unlikely that around one-third of the samples sharing the same set of mutations could have arisen by multiple independent entries with international travel history, especially when its presence globally is negligibly small.\n",
        "\n",
        "#### Observation 3:\n",
        "A dense cluster of sequences from Gujarat.\n",
        "\n",
        "#### Reason:\n",
        "Isolates from Gujarat are a part of a subclade, I/GJ-20A defined by a shared set of mutations C18877T, G25563T (ORF3a: Q57H), and C26735T. This set of mutations are not well represented in the rest of the country. Mutations present in Gujarat have also been found in samples from Europe and that could have been the possible route of transmission into India. Also, Gujarat has the highest COVID-19 death rate (5.12%) in the country (Avg: 2.67%), and this death rate in Gujarat is comparable to that in Europe. This high fatality could be due to these characteristic mutations increasing the deleteriousness of the virus.\n",
        "\n",
        "---\n",
        "\n",
        "**So I hope you appreciate the valuable insights visualization techniques provide us with.**\n",
        "\n",
        "Best of luck for the next Module!\n",
        "---"
      ]
    }
  ],
  "metadata": {
    "colab": {
      "provenance": [],
      "include_colab_link": true
    },
    "kernelspec": {
      "display_name": "Python 3",
      "name": "python3"
    },
    "language_info": {
      "codemirror_mode": {
        "name": "ipython",
        "version": 3
      },
      "file_extension": ".py",
      "mimetype": "text/x-python",
      "name": "python",
      "nbconvert_exporter": "python",
      "pygments_lexer": "ipython3",
      "version": "3.11.4"
    },
    "widgets": {
      "application/vnd.jupyter.widget-state+json": {
        "013076a0c91d49848e733e5c4b72e498": {
          "model_module": "@jupyter-widgets/controls",
          "model_module_version": "1.5.0",
          "model_name": "ProgressStyleModel",
          "state": {
            "_model_module": "@jupyter-widgets/controls",
            "_model_module_version": "1.5.0",
            "_model_name": "ProgressStyleModel",
            "_view_count": null,
            "_view_module": "@jupyter-widgets/base",
            "_view_module_version": "1.2.0",
            "_view_name": "StyleView",
            "bar_color": null,
            "description_width": ""
          }
        },
        "143e346ab62c4fd7acd615a64d32a8bd": {
          "model_module": "@jupyter-widgets/controls",
          "model_module_version": "1.5.0",
          "model_name": "DescriptionStyleModel",
          "state": {
            "_model_module": "@jupyter-widgets/controls",
            "_model_module_version": "1.5.0",
            "_model_name": "DescriptionStyleModel",
            "_view_count": null,
            "_view_module": "@jupyter-widgets/base",
            "_view_module_version": "1.2.0",
            "_view_name": "StyleView",
            "description_width": ""
          }
        },
        "4aab43c293774149a518b549780ca57d": {
          "model_module": "@jupyter-widgets/base",
          "model_module_version": "1.2.0",
          "model_name": "LayoutModel",
          "state": {
            "_model_module": "@jupyter-widgets/base",
            "_model_module_version": "1.2.0",
            "_model_name": "LayoutModel",
            "_view_count": null,
            "_view_module": "@jupyter-widgets/base",
            "_view_module_version": "1.2.0",
            "_view_name": "LayoutView",
            "align_content": null,
            "align_items": null,
            "align_self": null,
            "border": null,
            "bottom": null,
            "display": null,
            "flex": null,
            "flex_flow": null,
            "grid_area": null,
            "grid_auto_columns": null,
            "grid_auto_flow": null,
            "grid_auto_rows": null,
            "grid_column": null,
            "grid_gap": null,
            "grid_row": null,
            "grid_template_areas": null,
            "grid_template_columns": null,
            "grid_template_rows": null,
            "height": null,
            "justify_content": null,
            "justify_items": null,
            "left": null,
            "margin": null,
            "max_height": null,
            "max_width": null,
            "min_height": null,
            "min_width": null,
            "object_fit": null,
            "object_position": null,
            "order": null,
            "overflow": null,
            "overflow_x": null,
            "overflow_y": null,
            "padding": null,
            "right": null,
            "top": null,
            "visibility": null,
            "width": null
          }
        },
        "523af45f0d744f2992eb1bf1e802f990": {
          "model_module": "@jupyter-widgets/controls",
          "model_module_version": "1.5.0",
          "model_name": "HTMLModel",
          "state": {
            "_dom_classes": [],
            "_model_module": "@jupyter-widgets/controls",
            "_model_module_version": "1.5.0",
            "_model_name": "HTMLModel",
            "_view_count": null,
            "_view_module": "@jupyter-widgets/controls",
            "_view_module_version": "1.5.0",
            "_view_name": "HTMLView",
            "description": "",
            "description_tooltip": null,
            "layout": "IPY_MODEL_4aab43c293774149a518b549780ca57d",
            "placeholder": "​",
            "style": "IPY_MODEL_143e346ab62c4fd7acd615a64d32a8bd",
            "value": " 685/? [01:14&lt;00:00, 11.15it/s]"
          }
        },
        "639be8d1915a465a9dc01a336aff51c2": {
          "model_module": "@jupyter-widgets/base",
          "model_module_version": "1.2.0",
          "model_name": "LayoutModel",
          "state": {
            "_model_module": "@jupyter-widgets/base",
            "_model_module_version": "1.2.0",
            "_model_name": "LayoutModel",
            "_view_count": null,
            "_view_module": "@jupyter-widgets/base",
            "_view_module_version": "1.2.0",
            "_view_name": "LayoutView",
            "align_content": null,
            "align_items": null,
            "align_self": null,
            "border": null,
            "bottom": null,
            "display": null,
            "flex": null,
            "flex_flow": null,
            "grid_area": null,
            "grid_auto_columns": null,
            "grid_auto_flow": null,
            "grid_auto_rows": null,
            "grid_column": null,
            "grid_gap": null,
            "grid_row": null,
            "grid_template_areas": null,
            "grid_template_columns": null,
            "grid_template_rows": null,
            "height": null,
            "justify_content": null,
            "justify_items": null,
            "left": null,
            "margin": null,
            "max_height": null,
            "max_width": null,
            "min_height": null,
            "min_width": null,
            "object_fit": null,
            "object_position": null,
            "order": null,
            "overflow": null,
            "overflow_x": null,
            "overflow_y": null,
            "padding": null,
            "right": null,
            "top": null,
            "visibility": null,
            "width": "20px"
          }
        },
        "69c0eb58f9e642d590afd38dcc61a292": {
          "model_module": "@jupyter-widgets/controls",
          "model_module_version": "1.5.0",
          "model_name": "HTMLModel",
          "state": {
            "_dom_classes": [],
            "_model_module": "@jupyter-widgets/controls",
            "_model_module_version": "1.5.0",
            "_model_name": "HTMLModel",
            "_view_count": null,
            "_view_module": "@jupyter-widgets/controls",
            "_view_module_version": "1.5.0",
            "_view_name": "HTMLView",
            "description": "",
            "description_tooltip": null,
            "layout": "IPY_MODEL_91ea75db70414a94be8d41a606e5e2a4",
            "placeholder": "​",
            "style": "IPY_MODEL_7d7dceb0a68a4fd18ca9ec9d563014eb",
            "value": ""
          }
        },
        "7d7dceb0a68a4fd18ca9ec9d563014eb": {
          "model_module": "@jupyter-widgets/controls",
          "model_module_version": "1.5.0",
          "model_name": "DescriptionStyleModel",
          "state": {
            "_model_module": "@jupyter-widgets/controls",
            "_model_module_version": "1.5.0",
            "_model_name": "DescriptionStyleModel",
            "_view_count": null,
            "_view_module": "@jupyter-widgets/base",
            "_view_module_version": "1.2.0",
            "_view_name": "StyleView",
            "description_width": ""
          }
        },
        "7dd6fa74ead04ff0a5597618b4c2f443": {
          "model_module": "@jupyter-widgets/base",
          "model_module_version": "1.2.0",
          "model_name": "LayoutModel",
          "state": {
            "_model_module": "@jupyter-widgets/base",
            "_model_module_version": "1.2.0",
            "_model_name": "LayoutModel",
            "_view_count": null,
            "_view_module": "@jupyter-widgets/base",
            "_view_module_version": "1.2.0",
            "_view_name": "LayoutView",
            "align_content": null,
            "align_items": null,
            "align_self": null,
            "border": null,
            "bottom": null,
            "display": null,
            "flex": null,
            "flex_flow": null,
            "grid_area": null,
            "grid_auto_columns": null,
            "grid_auto_flow": null,
            "grid_auto_rows": null,
            "grid_column": null,
            "grid_gap": null,
            "grid_row": null,
            "grid_template_areas": null,
            "grid_template_columns": null,
            "grid_template_rows": null,
            "height": null,
            "justify_content": null,
            "justify_items": null,
            "left": null,
            "margin": null,
            "max_height": null,
            "max_width": null,
            "min_height": null,
            "min_width": null,
            "object_fit": null,
            "object_position": null,
            "order": null,
            "overflow": null,
            "overflow_x": null,
            "overflow_y": null,
            "padding": null,
            "right": null,
            "top": null,
            "visibility": null,
            "width": null
          }
        },
        "91ea75db70414a94be8d41a606e5e2a4": {
          "model_module": "@jupyter-widgets/base",
          "model_module_version": "1.2.0",
          "model_name": "LayoutModel",
          "state": {
            "_model_module": "@jupyter-widgets/base",
            "_model_module_version": "1.2.0",
            "_model_name": "LayoutModel",
            "_view_count": null,
            "_view_module": "@jupyter-widgets/base",
            "_view_module_version": "1.2.0",
            "_view_name": "LayoutView",
            "align_content": null,
            "align_items": null,
            "align_self": null,
            "border": null,
            "bottom": null,
            "display": null,
            "flex": null,
            "flex_flow": null,
            "grid_area": null,
            "grid_auto_columns": null,
            "grid_auto_flow": null,
            "grid_auto_rows": null,
            "grid_column": null,
            "grid_gap": null,
            "grid_row": null,
            "grid_template_areas": null,
            "grid_template_columns": null,
            "grid_template_rows": null,
            "height": null,
            "justify_content": null,
            "justify_items": null,
            "left": null,
            "margin": null,
            "max_height": null,
            "max_width": null,
            "min_height": null,
            "min_width": null,
            "object_fit": null,
            "object_position": null,
            "order": null,
            "overflow": null,
            "overflow_x": null,
            "overflow_y": null,
            "padding": null,
            "right": null,
            "top": null,
            "visibility": null,
            "width": null
          }
        },
        "b019c5623c4c4dab91a863ae2277cd94": {
          "model_module": "@jupyter-widgets/controls",
          "model_module_version": "1.5.0",
          "model_name": "HBoxModel",
          "state": {
            "_dom_classes": [],
            "_model_module": "@jupyter-widgets/controls",
            "_model_module_version": "1.5.0",
            "_model_name": "HBoxModel",
            "_view_count": null,
            "_view_module": "@jupyter-widgets/controls",
            "_view_module_version": "1.5.0",
            "_view_name": "HBoxView",
            "box_style": "",
            "children": [
              "IPY_MODEL_69c0eb58f9e642d590afd38dcc61a292",
              "IPY_MODEL_d89dcf4579df40c0ad4e7ffd0639538f",
              "IPY_MODEL_523af45f0d744f2992eb1bf1e802f990"
            ],
            "layout": "IPY_MODEL_7dd6fa74ead04ff0a5597618b4c2f443"
          }
        },
        "d89dcf4579df40c0ad4e7ffd0639538f": {
          "model_module": "@jupyter-widgets/controls",
          "model_module_version": "1.5.0",
          "model_name": "FloatProgressModel",
          "state": {
            "_dom_classes": [],
            "_model_module": "@jupyter-widgets/controls",
            "_model_module_version": "1.5.0",
            "_model_name": "FloatProgressModel",
            "_view_count": null,
            "_view_module": "@jupyter-widgets/controls",
            "_view_module_version": "1.5.0",
            "_view_name": "ProgressView",
            "bar_style": "success",
            "description": "",
            "description_tooltip": null,
            "layout": "IPY_MODEL_639be8d1915a465a9dc01a336aff51c2",
            "max": 1,
            "min": 0,
            "orientation": "horizontal",
            "style": "IPY_MODEL_013076a0c91d49848e733e5c4b72e498",
            "value": 1
          }
        }
      }
    }
  },
  "nbformat": 4,
  "nbformat_minor": 0
}