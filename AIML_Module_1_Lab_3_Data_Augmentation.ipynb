{
  "cells": [
    {
      "cell_type": "markdown",
      "metadata": {
        "id": "view-in-github",
        "colab_type": "text"
      },
      "source": [
        "<a href=\"https://colab.research.google.com/github/siddhu1716/IIIT_Hyderabad_Python/blob/main/AIML_Module_1_Lab_3_Data_Augmentation.ipynb\" target=\"_parent\"><img src=\"https://colab.research.google.com/assets/colab-badge.svg\" alt=\"Open In Colab\"/></a>"
      ]
    },
    {
      "cell_type": "markdown",
      "metadata": {
        "id": "w3yfry25JgZK"
      },
      "source": [
        "# Data augmentation\n",
        "\n",
        " In this lab, we will see how augmentation of data samples help in improving the machine learning performance"
      ]
    },
    {
      "cell_type": "code",
      "execution_count": null,
      "metadata": {
        "id": "xZU8_elooqP0"
      },
      "outputs": [],
      "source": [
        "# !pip3 install scikit-image\n",
        "\n",
        "import numpy as np\n",
        "import matplotlib.pyplot as plt\n",
        "from keras.datasets import mnist\n",
        "# set randomseed\n",
        "rng = np.random.default_rng(seed=42)\n",
        "# print(rng)\n",
        "import sklearn\n",
        "from sklearn.utils.extmath import cartesian\n",
        "from skimage.transform import rotate, AffineTransform, warp\n",
        "import math\n"
      ]
    },
    {
      "cell_type": "markdown",
      "metadata": {
        "id": "T5pHYogSMHiE"
      },
      "source": [
        "Augmentation is useful when we have less training data available. Augmentation allows us to 'create' a larger dataset programatically.\n",
        "\n",
        "For this lab we will use a subset of MNIST that is very small, to better understand the effect of augmentation."
      ]
    },
    {
      "cell_type": "code",
      "execution_count": null,
      "metadata": {
        "id": "TMib8OUEnYbg"
      },
      "outputs": [],
      "source": [
        "import requests\n",
        "requests.packages.urllib3.disable_warnings()\n",
        "import ssl\n",
        "\n",
        "try:\n",
        "    _create_unverified_https_context = ssl._create_unverified_context\n",
        "except AttributeError:\n",
        "    # Legacy Python that doesn't verify HTTPS certificates by default\n",
        "    pass\n",
        "else:\n",
        "    # Handle target environment that doesn't support HTTPS verification\n",
        "    ssl._create_default_https_context = _create_unverified_https_context"
      ]
    },
    {
      "cell_type": "code",
      "execution_count": null,
      "metadata": {
        "colab": {
          "base_uri": "https://localhost:8080/"
        },
        "id": "gJvmWJ58ovx5",
        "outputId": "1ceee210-406b-4e58-a230-f74d3ae09324"
      },
      "outputs": [
        {
          "name": "stdout",
          "output_type": "stream",
          "text": [
            "(60000, 28, 28)\n",
            "(50, 28, 28)\n"
          ]
        }
      ],
      "source": [
        "#loading the dataset\n",
        "(train_X, train_y), (test_X, test_y) = mnist.load_data()\n",
        "train_X = train_X/255\n",
        "test_X = test_X/255\n",
        "print(train_X.shape)\n",
        "train_X = train_X[::1200].copy() # subsample. Otherwise it will take too long!\n",
        "train_y = train_y[::1200].copy() # do the same to the labels\n",
        "print(train_X.shape)"
      ]
    },
    {
      "cell_type": "markdown",
      "metadata": {
        "id": "8XamH6z1Rt7S"
      },
      "source": [
        "Let us borrow a few functions from the previous labs:"
      ]
    },
    {
      "cell_type": "code",
      "execution_count": null,
      "metadata": {
        "id": "Zk2W5_3BRLMS"
      },
      "outputs": [],
      "source": [
        "def NN1(traindata, trainlabel, query):\n",
        "  diff  = traindata - query  # find the difference between features. Numpy automatically takes care of the size here\n",
        "  # print(diff)\n",
        "  sq = diff*diff # square the differences\n",
        "  dist = sq.sum(1) # add up the squares\n",
        "  # print(dist)\n",
        "  # print(np.argmin(dist))\n",
        "  label = trainlabel[np.argmin(dist)] # our predicted label is the label of the training data which has the least distance from the query\n",
        "  return label\n",
        "\n",
        "def NN(traindata, trainlabel, testdata):\n",
        "  # we will run nearest neighbour for each sample in the test data\n",
        "  # and collect the predicted classes in an array using list comprehension\n",
        "  # print(traindata[0].shape)\n",
        "  traindata = traindata.reshape(-1, 28*28)\n",
        "  testdata = testdata.reshape(-1,28*28)\n",
        "  # print(traindata[0])\n",
        "  predlabel = np.array([NN1(traindata, trainlabel, i) for i in testdata])\n",
        "  # print(traindata.shape)\n",
        "  # temp = (NN1(traindata, trainlabel, testdata[0]))\n",
        "  return predlabel\n",
        "\n",
        "def Accuracy(gtlabel, predlabel):\n",
        "  assert len(gtlabel)==len(predlabel), \"Length of the groundtruth labels and predicted labels should be the same\"\n",
        "  correct = (gtlabel==predlabel).sum() # count the number of times the groundtruth label is equal to the predicted label.\n",
        "  return correct/len(gtlabel)"
      ]
    },
    {
      "cell_type": "markdown",
      "metadata": {
        "id": "eGiA3LmDSJZo"
      },
      "source": [
        "In this lab, we will use the image pixels themselves as features, instead of extracting features. Each image has 28*28 pixels, so we will flatten them to 784 pixels to use as features. Note that this is very compute intensive and will take a long time.<br>\n",
        "\n",
        "Let us check the baseline accuracy on the test set without any augmentations. We hope that adding augmentations will help us to get better results."
      ]
    },
    {
      "cell_type": "code",
      "execution_count": null,
      "metadata": {
        "colab": {
          "base_uri": "https://localhost:8080/"
        },
        "id": "4tQvnoasRNEV",
        "outputId": "de330bf9-4eaf-42a8-91b6-c79cb391603a"
      },
      "outputs": [
        {
          "name": "stdout",
          "output_type": "stream",
          "text": [
            "Baseline accuracy without augmentation is  0.6472\n"
          ]
        }
      ],
      "source": [
        "testpred = NN(train_X, train_y, test_X)\n",
        "print('Baseline accuracy without augmentation is ', Accuracy(test_y, testpred))"
      ]
    },
    {
      "cell_type": "markdown",
      "metadata": {
        "id": "ZfkcMfhIZQ7U"
      },
      "source": [
        "Let us try to improve this accuracy using augmentations. When we create augmentations, we have to make sure that the changes reflect what will naturally occur in the dataset. For example, we should not add colour to our samples as an augmentation because they do not naturally occur. We should not also flip the images in MNIST, because flipped images have different meanings for digits.\n",
        "\n",
        "### Augmentation 1: rotation\n",
        "\n",
        "Let us try rotating the image a little. We will use skimage library for this."
      ]
    },
    {
      "cell_type": "code",
      "execution_count": null,
      "metadata": {
        "colab": {
          "base_uri": "https://localhost:8080/",
          "height": 860
        },
        "id": "z5WolJ9fZE7L",
        "outputId": "723987e8-cf3a-4ff2-b5be-c83aa6b244c0"
      },
      "outputs": [
        {
          "data": {
            "image/png": "[encoded data removed]",
            "text/plain": [
              "<Figure size 640x480 with 1 Axes>"
            ]
          },
          "metadata": {},
          "output_type": "display_data"
        },
        {
          "data": {
            "text/plain": [
              "<matplotlib.image.AxesImage at 0x283b06c90>"
            ]
          },
          "execution_count": 6,
          "metadata": {},
          "output_type": "execute_result"
        },
        {
          "data": {
            "image/png": "[encoded data removed]",
            "text/plain": [
              "<Figure size 640x480 with 1 Axes>"
            ]
          },
          "metadata": {},
          "output_type": "display_data"
        }
      ],
      "source": [
        "plt.imshow(train_X[2], cmap='gray')\n",
        "plt.show()\n",
        "plt.imshow(rotate(train_X[2],25), cmap='gray')"
      ]
    },
    {
      "cell_type": "markdown",
      "metadata": {
        "id": "KE33Yxgggu0c"
      },
      "source": [
        "After rotating, the the class of the image is still the same. Let us make a function to rotate multiple images by random angles. We want a slightly different image every time we run this function. So, we generate a random number between 0 and 1 and change it so that it lies between -constraint/2 and +constraint/2"
      ]
    },
    {
      "cell_type": "code",
      "execution_count": null,
      "metadata": {
        "id": "vyM7pUV7Reze"
      },
      "outputs": [],
      "source": [
        "def augRotate(sample, angleconstraint):\n",
        "  if angleconstraint==0:\n",
        "    return sample\n",
        "  if len(sample.shape)==2:\n",
        "    sample = np.expand_dims(sample, 0)  # make sure the sample is 3 dimensional\n",
        "  angle = rng.random(len(sample)) # generate random numbers for angles\n",
        "  angle = (angle-0.5)*angleconstraint # make the random angle constrained\n",
        "  nsample = sample.copy() # preallocate the augmented array to make it faster\n",
        "  for ii in range(len(sample)):\n",
        "    nsample[ii] = rotate(sample[ii], angle[ii])\n",
        "  return np.squeeze(nsample) # take care if the input had only one sample."
      ]
    },
    {
      "cell_type": "markdown",
      "metadata": {
        "id": "kDk-N5VNjar9"
      },
      "source": [
        "This function returns a slightly different image each time we call it. So we can increase the number of images in the sample by any multiple."
      ]
    },
    {
      "cell_type": "code",
      "execution_count": null,
      "metadata": {
        "id": "ybS5KCvKnYbk"
      },
      "outputs": [],
      "source": [
        "train_X[20]"
      ]
    },
    {
      "cell_type": "code",
      "execution_count": null,
      "metadata": {
        "id": "SGyQmdocnYbk",
        "outputId": "286c6ad3-0fee-4f1d-f1d6-4bf5f5250e68"
      },
      "outputs": [
        {
          "data": {
            "image/png": "[encoded data removed]",
            "text/plain": [
              "<Figure size 640x480 with 1 Axes>"
            ]
          },
          "metadata": {},
          "output_type": "display_data"
        },
        {
          "data": {
            "image/png": "[encoded data removed]",
            "text/plain": [
              "<Figure size 640x480 with 1 Axes>"
            ]
          },
          "metadata": {},
          "output_type": "display_data"
        },
        {
          "data": {
            "image/png": "[encoded data removed]",
            "text/plain": [
              "<Figure size 640x480 with 1 Axes>"
            ]
          },
          "metadata": {},
          "output_type": "display_data"
        }
      ],
      "source": [
        "sample = train_X[20]\n",
        "angleconstraint = 70\n",
        "# show the original image\n",
        "plt.imshow(sample, cmap='gray')\n",
        "plt.show()\n",
        "plt.imshow(augRotate(sample, angleconstraint), cmap='gray') # show an augmented image\n",
        "plt.show()\n",
        "plt.imshow(augRotate(sample, angleconstraint), cmap='gray') # show another augmented image from the same sample\n",
        "plt.show()\n"
      ]
    },
    {
      "cell_type": "code",
      "execution_count": null,
      "metadata": {
        "colab": {
          "base_uri": "https://localhost:8080/",
          "height": 639
        },
        "id": "Vw3O9zGFgI8K",
        "outputId": "a06bab70-696d-4b43-b9ca-af84ea36e0b1"
      },
      "outputs": [
        {
          "data": {
            "image/png": "[encoded data removed]",
            "text/plain": [
              "<Figure size 640x480 with 1 Axes>"
            ]
          },
          "metadata": {},
          "output_type": "display_data"
        },
        {
          "data": {
            "text/plain": [
              "<matplotlib.image.AxesImage at 0x110336a50>"
            ]
          },
          "execution_count": 21,
          "metadata": {},
          "output_type": "execute_result"
        },
        {
          "data": {
            "image/png": "[encoded data removed]",
            "text/plain": [
              "<Figure size 640x480 with 3 Axes>"
            ]
          },
          "metadata": {},
          "output_type": "display_data"
        }
      ],
      "source": [
        "sample = train_X[20]\n",
        "angleconstraint = 70#maximum angle which the image can be rotated\n",
        "# show the original image\n",
        "plt.imshow(sample, cmap='gray')\n",
        "plt.show()\n",
        "plt.subplot(1,3,1)\n",
        "plt.imshow(augRotate(sample, angleconstraint), cmap='gray') # show an augmented image\n",
        "plt.subplot(1,3,2)\n",
        "plt.imshow(augRotate(sample, angleconstraint), cmap='gray') # show another augmented image from the same sample\n",
        "plt.subplot(1,3,3)\n",
        "plt.imshow(augRotate(sample, angleconstraint), cmap='gray') # one more image from the same sample"
      ]
    },
    {
      "cell_type": "markdown",
      "metadata": {
        "id": "ytv3NxF-kgxN"
      },
      "source": [
        "Let us augment the whole dataset and see if this improves the test accuracy"
      ]
    },
    {
      "cell_type": "code",
      "execution_count": null,
      "metadata": {
        "colab": {
          "base_uri": "https://localhost:8080/"
        },
        "id": "iNzNAoDBkRzj",
        "outputId": "7dc07fcc-aac8-4243-c046-8bec9095edd0"
      },
      "outputs": [
        {
          "name": "stdout",
          "output_type": "stream",
          "text": [
            "Accuracy after rotation augmentation is  0.663\n"
          ]
        }
      ],
      "source": [
        "# hyperparameters\n",
        "angleconstraint = 60 #maximum rotatio of image\n",
        "naugmentations = 5 #how mant times you want to rotate the image\n",
        "\n",
        "# augment\n",
        "augdata = train_X # we include the original images also in the augmented dataset\n",
        "auglabel = train_y\n",
        "for ii in range(naugmentations):\n",
        "  augdata = np.concatenate((augdata, augRotate(train_X, angleconstraint))) # concatenate the augmented data to the set\n",
        "  auglabel = np.concatenate((auglabel, train_y))  # the labels don't change when we augment\n",
        "\n",
        "# check the test accuracy\n",
        "testpred = NN(augdata, auglabel, test_X)\n",
        "print('Accuracy after rotation augmentation is ', Accuracy(test_y, testpred))"
      ]
    },
    {
      "cell_type": "markdown",
      "metadata": {
        "id": "E88Nt9s1p5R6"
      },
      "source": [
        "The angle constraint is a hyperparameter which we have to tune using a validation set. (Here we are not doing that for time constraints). Let us try a grid search to find the best angle constraint."
      ]
    },
    {
      "cell_type": "code",
      "execution_count": null,
      "metadata": {
        "colab": {
          "base_uri": "https://localhost:8080/"
        },
        "id": "aiaFRLREmGp6",
        "outputId": "1ddccdcd-501d-4815-cb07-318a6bfd235f"
      },
      "outputs": [
        {
          "name": "stdout",
          "output_type": "stream",
          "text": [
            "Accuracy after rotation augmentation constrained by  0  is  0.6472\n",
            "Accuracy after rotation augmentation constrained by  10  is  0.6626\n",
            "Accuracy after rotation augmentation constrained by  20  is  0.6863\n",
            "Accuracy after rotation augmentation constrained by  30  is  0.6727\n",
            "Accuracy after rotation augmentation constrained by  40  is  0.6754\n",
            "Accuracy after rotation augmentation constrained by  50  is  0.6728\n",
            "Accuracy after rotation augmentation constrained by  60  is  0.6631\n",
            "Accuracy after rotation augmentation constrained by  70  is  0.6674\n",
            "Accuracy after rotation augmentation constrained by  80  is  0.6687\n",
            "Accuracy after rotation augmentation constrained by  90  is  0.6335\n"
          ]
        }
      ],
      "source": [
        "angleconstraints = [0,10,20,30,40,50,60,70,80,90] # the values we want to test\n",
        "accuracies = np.zeros(len(angleconstraints),dtype=np.float64) # we will save the values here\n",
        "\n",
        "for ii in range(len(angleconstraints)):\n",
        "  # create the augmented dataset\n",
        "  augdata = train_X # we include the original images also in the augmented dataset\n",
        "  auglabel = train_y\n",
        "  for jj in range(naugmentations):\n",
        "    augdata = np.concatenate((augdata, augRotate(train_X, angleconstraints[ii]))) # concatenate the augmented data to the set\n",
        "    auglabel = np.concatenate((auglabel, train_y))  # the labels don't change when we augment\n",
        "\n",
        "  # check the test accuracy\n",
        "  testpred = NN(augdata, auglabel, test_X)\n",
        "  accuracies[ii] = Accuracy(test_y, testpred)\n",
        "  print('Accuracy after rotation augmentation constrained by ',angleconstraints[ii], ' is ', accuracies[ii], flush=True)"
      ]
    },
    {
      "cell_type": "markdown",
      "metadata": {
        "id": "2oVDRYP2rxob"
      },
      "source": [
        "Let us see the best value for angle constraint: (Ideally this should be done on validation set, not test set)"
      ]
    },
    {
      "cell_type": "code",
      "execution_count": null,
      "metadata": {
        "colab": {
          "base_uri": "https://localhost:8080/",
          "height": 486
        },
        "id": "LqthJa_pmMHz",
        "outputId": "81730fdf-8ebb-4161-e276-29c1d54b3c8c"
      },
      "outputs": [
        {
          "data": {
            "text/plain": [
              "<matplotlib.collections.PathCollection at 0x110bdcd90>"
            ]
          },
          "execution_count": 31,
          "metadata": {},
          "output_type": "execute_result"
        },
        {
          "data": {
            "image/png": "[encoded data removed]",
            "text/plain": [
              "<Figure size 640x480 with 1 Axes>"
            ]
          },
          "metadata": {},
          "output_type": "display_data"
        }
      ],
      "source": [
        "fig = plt.figure()\n",
        "ax = fig.add_axes([0.1, 0.1, 0.8, 0.8]) # main axes\n",
        "# plot the variation of accuracy\n",
        "ax.plot(angleconstraints, accuracies)\n",
        "ax.set_xlabel('angle')\n",
        "ax.set_ylabel('accuracy')\n",
        "# plot the maximum accuracy\n",
        "maxind = np.argmax(accuracies)\n",
        "plt.scatter(angleconstraints[maxind], accuracies[maxind], c='red')"
      ]
    },
    {
      "cell_type": "markdown",
      "metadata": {
        "id": "eJ8YuVfCuGTj"
      },
      "source": [
        "Let us try one more augmentation: shear. Here is what this looks like:"
      ]
    },
    {
      "cell_type": "code",
      "execution_count": null,
      "metadata": {
        "id": "pMiw46NLwssK"
      },
      "outputs": [],
      "source": [
        "def shear(sample, amount):\n",
        "  tform = AffineTransform(shear = amount) # create the shear transform\n",
        "  img = warp(sample, tform) # apply the shear\n",
        "  # this makes the digit off-center. Since all the images in the test set are centralized, we will do the same here\n",
        "  col = img.sum(0).nonzero()[0]\n",
        "  row = img.sum(1).nonzero()[0]\n",
        "  if len(col)>0 and len(row)>0:\n",
        "    xshift = int(sample.shape[0]/2 - (row[0]+row[-1])/2)\n",
        "    yshift = int(sample.shape[1]/2 - (col[0]+col[-1])/2)\n",
        "    img = np.roll(img, (xshift, yshift),(0,1))\n",
        "  return img"
      ]
    },
    {
      "cell_type": "code",
      "execution_count": null,
      "metadata": {
        "colab": {
          "base_uri": "https://localhost:8080/",
          "height": 861
        },
        "id": "4_u_EYpmnABK",
        "outputId": "03d804ac-97ad-4318-dc0c-1e881c5c294f"
      },
      "outputs": [
        {
          "data": {
            "image/png": "[encoded data removed]",
            "text/plain": [
              "<Figure size 640x480 with 1 Axes>"
            ]
          },
          "metadata": {},
          "output_type": "display_data"
        },
        {
          "data": {
            "text/plain": [
              "<matplotlib.image.AxesImage at 0x110d5fd90>"
            ]
          },
          "execution_count": 34,
          "metadata": {},
          "output_type": "execute_result"
        },
        {
          "data": {
            "image/png": "[encoded data removed]",
            "text/plain": [
              "<Figure size 640x480 with 1 Axes>"
            ]
          },
          "metadata": {},
          "output_type": "display_data"
        }
      ],
      "source": [
        "sample = train_X[2]\n",
        "plt.imshow(sample, cmap='gray')\n",
        "plt.show()\n",
        "\n",
        "# apply shear\n",
        "plt.imshow(shear(sample, 0.4), cmap='gray')"
      ]
    },
    {
      "cell_type": "markdown",
      "metadata": {
        "id": "lGnWMoyM2pK4"
      },
      "source": [
        "Create an augmentation function which applies a random shear according to the constraint we provide:"
      ]
    },
    {
      "cell_type": "code",
      "execution_count": null,
      "metadata": {
        "id": "-qLDJyGytwP5"
      },
      "outputs": [],
      "source": [
        "def augShear(sample, shearconstraint):\n",
        "  if shearconstraint==0:\n",
        "    return sample\n",
        "  if len(sample.shape)==2:\n",
        "    sample = np.expand_dims(sample, 0)  # make sure the sample is 3 dimensional\n",
        "  amt = rng.random(len(sample)) # generate random numbers for shear\n",
        "  amt = (amt-0.5)*shearconstraint # make the random shear constrained\n",
        "  nsample = sample.copy() # preallocate the augmented array to make it faster\n",
        "  for ii in range(len(sample)):\n",
        "    nsample[ii] = shear(sample[ii], amt[ii])\n",
        "  return np.squeeze(nsample) # take care if the input had only one sample."
      ]
    },
    {
      "cell_type": "markdown",
      "metadata": {
        "id": "s6lQcWW93suJ"
      },
      "source": [
        "Let us do a grid search to find the best shear constraint."
      ]
    },
    {
      "cell_type": "code",
      "execution_count": null,
      "metadata": {
        "colab": {
          "base_uri": "https://localhost:8080/"
        },
        "id": "l_wrqPkrzBb_",
        "outputId": "05c81213-798a-4f4b-c127-3dd5e4a77c64"
      },
      "outputs": [
        {
          "name": "stdout",
          "output_type": "stream",
          "text": [
            "Accuracy after shear augmentation constrained by  0  is  0.6472\n",
            "Accuracy after shear augmentation constrained by  0.2  is  0.632\n",
            "Accuracy after shear augmentation constrained by  0.4  is  0.643\n",
            "Accuracy after shear augmentation constrained by  0.6  is  0.6508\n",
            "Accuracy after shear augmentation constrained by  0.8  is  0.6608\n",
            "Accuracy after shear augmentation constrained by  1.0  is  0.6665\n",
            "Accuracy after shear augmentation constrained by  1.2  is  0.6443\n",
            "Accuracy after shear augmentation constrained by  1.4  is  0.6557\n",
            "Accuracy after shear augmentation constrained by  1.6  is  0.6378\n",
            "Accuracy after shear augmentation constrained by  1.8  is  0.6374\n",
            "Accuracy after shear augmentation constrained by  2.0  is  0.6373\n"
          ]
        }
      ],
      "source": [
        "shearconstraints = [0, 0.2,0.4,0.6,0.8,1.0,1.2,1.4,1.6,1.8,2.0] # the values we want to test\n",
        "accuracies = np.zeros(len(shearconstraints), dtype=np.float64) # we will save the values here\n",
        "\n",
        "for ii in range(len(shearconstraints)):\n",
        "  # create the augmented dataset\n",
        "  augdata = train_X # we include the original images also in the augmented dataset\n",
        "  auglabel = train_y\n",
        "  for jj in range(naugmentations):\n",
        "    augdata = np.concatenate((augdata, augShear(train_X, shearconstraints[ii]))) # concatenate the augmented data to the set\n",
        "    auglabel = np.concatenate((auglabel, train_y))  # the labels don't change when we augment\n",
        "\n",
        "  # check the test accuracy\n",
        "  testpred = NN(augdata, auglabel, test_X)\n",
        "  accuracies[ii] = Accuracy(test_y, testpred)\n",
        "  print('Accuracy after shear augmentation constrained by ',shearconstraints[ii], ' is ', accuracies[ii], flush=True)"
      ]
    },
    {
      "cell_type": "code",
      "execution_count": null,
      "metadata": {
        "colab": {
          "base_uri": "https://localhost:8080/",
          "height": 482
        },
        "id": "EKaH-YR-zVnA",
        "outputId": "c999d132-aff9-4774-c687-82546f53fd75"
      },
      "outputs": [
        {
          "data": {
            "text/plain": [
              "<matplotlib.collections.PathCollection at 0x110ceca10>"
            ]
          },
          "execution_count": 39,
          "metadata": {},
          "output_type": "execute_result"
        },
        {
          "data": {
            "image/png": "[encoded data removed]",
            "text/plain": [
              "<Figure size 640x480 with 1 Axes>"
            ]
          },
          "metadata": {},
          "output_type": "display_data"
        }
      ],
      "source": [
        "fig = plt.figure()\n",
        "ax = fig.add_axes([0.1, 0.1, 0.8, 0.8]) # main axes\n",
        "# plot the variation of accuracy\n",
        "ax.plot(shearconstraints, accuracies)\n",
        "ax.set_xlabel('angle')\n",
        "ax.set_ylabel('accuracy')\n",
        "# plot the maximum accuracy\n",
        "maxind = np.argmax(accuracies)\n",
        "plt.scatter(shearconstraints[maxind], accuracies[maxind], c='red')"
      ]
    },
    {
      "cell_type": "markdown",
      "metadata": {
        "id": "ccfdbRcQ7Zgg"
      },
      "source": [
        "We can do multiple augmentations at the same time. Here is a function to do both shear and rotation to the sample. In this case, we will have two hyperparameters."
      ]
    },
    {
      "cell_type": "code",
      "execution_count": null,
      "metadata": {
        "id": "sh8S_Pxa0XCv"
      },
      "outputs": [],
      "source": [
        "def augRotateShear(sample, angleconstraint, shearconstraint):\n",
        "  if len(sample.shape)==2:\n",
        "    sample = np.expand_dims(sample, 0)  # make sure the sample is 3 dimensional\n",
        "  amt = rng.random(len(sample)) # generate random numbers for shear\n",
        "  amt = (amt-0.5)*shearconstraint # make the random shear constrained\n",
        "  angle = rng.random(len(sample)) # generate random numbers for angles\n",
        "  angle = (angle-0.5)*angleconstraint # make the random angle constrained\n",
        "  nsample = sample.copy() # preallocate the augmented array to make it faster\n",
        "  for ii in range(len(sample)):\n",
        "    nsample[ii] = rotate(shear(sample[ii], amt[ii]), angle[ii]) # first apply shear, then rotate\n",
        "  return np.squeeze(nsample) # take care if the input had only one sample."
      ]
    },
    {
      "cell_type": "markdown",
      "metadata": {
        "id": "OGKyjjNx-NQ4"
      },
      "source": [
        "Since we have two hyperparameters, we have to do the grid search on a 2 dimensional matrix. We can use our previous experience to inform where to search for the best hyperparameters."
      ]
    },
    {
      "cell_type": "code",
      "execution_count": null,
      "metadata": {
        "colab": {
          "base_uri": "https://localhost:8080/"
        },
        "id": "TJC45WRg0pOP",
        "outputId": "cfabc6b5-8894-45d5-81be-34587785b479"
      },
      "outputs": [
        {
          "name": "stdout",
          "output_type": "stream",
          "text": [
            "Accuracy after augmentation shear: 0.0 angle: 0.0  is  0.6332\n",
            "Accuracy after augmentation shear: 0.0 angle: 10.0  is  0.6227\n",
            "Accuracy after augmentation shear: 0.0 angle: 20.0  is  0.6179\n",
            "Accuracy after augmentation shear: 0.0 angle: 30.0  is  0.6099\n",
            "Accuracy after augmentation shear: 0.0 angle: 40.0  is  0.6055\n",
            "Accuracy after augmentation shear: 0.0 angle: 50.0  is  0.6086\n",
            "Accuracy after augmentation shear: 0.0 angle: 60.0  is  0.6254\n",
            "Accuracy after augmentation shear: 0.2 angle: 0.0  is  0.6337\n",
            "Accuracy after augmentation shear: 0.2 angle: 10.0  is  0.6215\n",
            "Accuracy after augmentation shear: 0.2 angle: 20.0  is  0.6325\n",
            "Accuracy after augmentation shear: 0.2 angle: 30.0  is  0.6168\n",
            "Accuracy after augmentation shear: 0.2 angle: 40.0  is  0.6323\n",
            "Accuracy after augmentation shear: 0.2 angle: 50.0  is  0.6305\n",
            "Accuracy after augmentation shear: 0.2 angle: 60.0  is  0.6206\n",
            "Accuracy after augmentation shear: 0.4 angle: 0.0  is  0.6342\n",
            "Accuracy after augmentation shear: 0.4 angle: 10.0  is  0.5996\n",
            "Accuracy after augmentation shear: 0.4 angle: 20.0  is  0.6023\n",
            "Accuracy after augmentation shear: 0.4 angle: 30.0  is  0.6102\n",
            "Accuracy after augmentation shear: 0.4 angle: 40.0  is  0.6315\n",
            "Accuracy after augmentation shear: 0.4 angle: 50.0  is  0.6052\n",
            "Accuracy after augmentation shear: 0.4 angle: 60.0  is  0.6113\n",
            "Accuracy after augmentation shear: 0.6 angle: 0.0  is  0.6339\n",
            "Accuracy after augmentation shear: 0.6 angle: 10.0  is  0.6198\n",
            "Accuracy after augmentation shear: 0.6 angle: 20.0  is  0.6436\n",
            "Accuracy after augmentation shear: 0.6 angle: 30.0  is  0.6282\n",
            "Accuracy after augmentation shear: 0.6 angle: 40.0  is  0.6139\n",
            "Accuracy after augmentation shear: 0.6 angle: 50.0  is  0.6386\n",
            "Accuracy after augmentation shear: 0.6 angle: 60.0  is  0.6111\n",
            "Accuracy after augmentation shear: 0.8 angle: 0.0  is  0.6339\n",
            "Accuracy after augmentation shear: 0.8 angle: 10.0  is  0.617\n",
            "Accuracy after augmentation shear: 0.8 angle: 20.0  is  0.6044\n",
            "Accuracy after augmentation shear: 0.8 angle: 30.0  is  0.6068\n",
            "Accuracy after augmentation shear: 0.8 angle: 40.0  is  0.6042\n",
            "Accuracy after augmentation shear: 0.8 angle: 50.0  is  0.6201\n",
            "Accuracy after augmentation shear: 0.8 angle: 60.0  is  0.6304\n",
            "Accuracy after augmentation shear: 1.0 angle: 0.0  is  0.6356\n",
            "Accuracy after augmentation shear: 1.0 angle: 10.0  is  0.6081\n",
            "Accuracy after augmentation shear: 1.0 angle: 20.0  is  0.6188\n",
            "Accuracy after augmentation shear: 1.0 angle: 30.0  is  0.6174\n",
            "Accuracy after augmentation shear: 1.0 angle: 40.0  is  0.6104\n",
            "Accuracy after augmentation shear: 1.0 angle: 50.0  is  0.6313\n",
            "Accuracy after augmentation shear: 1.0 angle: 60.0  is  0.6231\n",
            "Accuracy after augmentation shear: 1.2 angle: 0.0  is  0.6345\n",
            "Accuracy after augmentation shear: 1.2 angle: 10.0  is  0.6061\n",
            "Accuracy after augmentation shear: 1.2 angle: 20.0  is  0.6106\n",
            "Accuracy after augmentation shear: 1.2 angle: 30.0  is  0.6148\n",
            "Accuracy after augmentation shear: 1.2 angle: 40.0  is  0.6251\n",
            "Accuracy after augmentation shear: 1.2 angle: 50.0  is  0.6165\n",
            "Accuracy after augmentation shear: 1.2 angle: 60.0  is  0.6216\n",
            "Accuracy after augmentation shear: 1.4 angle: 0.0  is  0.6339\n",
            "Accuracy after augmentation shear: 1.4 angle: 10.0  is  0.6095\n",
            "Accuracy after augmentation shear: 1.4 angle: 20.0  is  0.622\n",
            "Accuracy after augmentation shear: 1.4 angle: 30.0  is  0.6108\n",
            "Accuracy after augmentation shear: 1.4 angle: 40.0  is  0.628\n",
            "Accuracy after augmentation shear: 1.4 angle: 50.0  is  0.6327\n",
            "Accuracy after augmentation shear: 1.4 angle: 60.0  is  0.6075\n",
            "Accuracy after augmentation shear: 1.6 angle: 0.0  is  0.6342\n",
            "Accuracy after augmentation shear: 1.6 angle: 10.0  is  0.593\n",
            "Accuracy after augmentation shear: 1.6 angle: 20.0  is  0.6019\n",
            "Accuracy after augmentation shear: 1.6 angle: 30.0  is  0.6309\n",
            "Accuracy after augmentation shear: 1.6 angle: 40.0  is  0.6253\n",
            "Accuracy after augmentation shear: 1.6 angle: 50.0  is  0.6461\n",
            "Accuracy after augmentation shear: 1.6 angle: 60.0  is  0.6273\n"
          ]
        }
      ],
      "source": [
        "shearconstraints = [0, 0.2,0.4,0.6,0.8,1.0,1.2,1.4,1.6] # the values we want to test\n",
        "angleconstraints = [0,10,20,30,40,50,60] # the values we want to test\n",
        "\n",
        "hyp = cartesian((shearconstraints, angleconstraints)) # cartesian product of both\n",
        "\n",
        "accuracies = np.zeros(len(hyp), dtype=np.float64) # we will save the values here\n",
        "\n",
        "for ii in range(len(hyp)):\n",
        "  # create the augmented dataset\n",
        "  augdata = train_X # we include the original images also in the augmented dataset\n",
        "  auglabel = train_y\n",
        "  for jj in range(naugmentations):\n",
        "    augdata = np.concatenate((augdata, augRotateShear(train_X, hyp[ii][0], hyp[ii][1]))) # concatenate the augmented data to the set\n",
        "    auglabel = np.concatenate((auglabel, train_y))  # the labels don't change when we augment\n",
        "\n",
        "  # check the test accuracy\n",
        "  testpred = NN(augdata, auglabel, test_X)\n",
        "  accuracies[ii] = Accuracy(test_y, testpred)\n",
        "  print('Accuracy after augmentation shear:',hyp[ii][0], 'angle:',hyp[ii][1], ' is ', accuracies[ii], flush=True)"
      ]
    },
    {
      "cell_type": "markdown",
      "metadata": {
        "id": "PT6CnvSDEX7a"
      },
      "source": [
        "Let us plot it two dimensionally to see which is the best value for the hyperparameters:"
      ]
    },
    {
      "cell_type": "code",
      "execution_count": null,
      "metadata": {
        "colab": {
          "base_uri": "https://localhost:8080/",
          "height": 482
        },
        "id": "jD2i7msI_cLd",
        "outputId": "eeeba410-ef4a-4547-ce1d-98274842ec60"
      },
      "outputs": [
        {
          "data": {
            "text/plain": [
              "<matplotlib.colorbar.Colorbar at 0x110b7a790>"
            ]
          },
          "execution_count": 44,
          "metadata": {},
          "output_type": "execute_result"
        },
        {
          "data": {
            "image/png": "[encoded data removed]",
            "text/plain": [
              "<Figure size 640x480 with 2 Axes>"
            ]
          },
          "metadata": {},
          "output_type": "display_data"
        }
      ],
      "source": [
        "fig = plt.figure()\n",
        "ax = fig.add_axes([0.1, 0.1, 0.8, 0.8]) # main axes\n",
        "im = ax.imshow(accuracies.reshape((len(shearconstraints), len(angleconstraints))), cmap='inferno')\n",
        "ax.set_xlabel('angle')\n",
        "ax.set_ylabel('shear')\n",
        "ax.set_xticks(np.arange(len(angleconstraints)));\n",
        "ax.set_xticklabels(angleconstraints);\n",
        "ax.set_yticks(np.arange(len(shearconstraints)));\n",
        "ax.set_yticklabels(shearconstraints);\n",
        "plt.colorbar(im)"
      ]
    },
    {
      "cell_type": "markdown",
      "metadata": {
        "id": "OHcZWJiFJDMh"
      },
      "source": [
        "It seems that rotation and shear don't mix! The best accuracy is when rotation is zero."
      ]
    },
    {
      "cell_type": "markdown",
      "metadata": {
        "id": "PAasQo1C3x4A"
      },
      "source": [
        "## Questions\n",
        "Try these questions for better understanding. You may not be able to solve all of them.\n",
        "1. What is the best value for angle constraint and shear constraint you got? How much did the accuracy improve as compared to not using augmentations?\n",
        "2. Can you increase the accuracy by increasing the number of augmentations from each sample?\n",
        "3. Try implementing a few augmentations of your own and experimenting with them. A good reference is <a href=https://www.analyticsvidhya.com/blog/2019/12/image-augmentation-deep-learning-pytorch/>here. </a>\n",
        "4. Try combining various augmentations. What is the highest accuracy you can get? What is the smallest training dataset you can take and still get accuracy above 50%?\n",
        "\n",
        "Whenever you do any experiment, a good practice is to vary the hyperparameters gradually and create a graph of your results, like we did for gridsearch."
      ]
    },
    {
      "cell_type": "markdown",
      "metadata": {
        "id": "OGYllcN4nYbr"
      },
      "source": [
        "Answers:\n",
        "\n",
        "1.The combination of shearconstraint = 1.6 and angleconstraint = 50.0 results in the highest accuracy, which is approximately 0.6461. for the above dataset, the best values for the angle constraint and shear constraint will depend on your specific dataset and task , 0.6472 is the accuracy for not using augumentation, the accuracy decreased by 0.0011\n",
        "\n",
        "2.It will eventually increase the accuracy when you are having less data , but we cannot predict its outputs Increasing the number of augmentations from each sample can potentially improve the accuracy of your model up to a certain point. Augmentations are intended to enhance the model's ability to generalize by exposing it to variations in the training data."
      ]
    },
    {
      "cell_type": "code",
      "execution_count": null,
      "metadata": {
        "id": "fKZ-UkFKnYbr",
        "outputId": "0bb12d14-fba7-49b4-e751-66ae50909fac"
      },
      "outputs": [
        {
          "name": "stderr",
          "output_type": "stream",
          "text": [
            "UsageError: Line magic function `%` not found.\n"
          ]
        }
      ],
      "source": [
        "3. #blur the image\n",
        "# importing all the required libraries\n",
        "import warnings\n",
        "warnings.filterwarnings('ignore')\n",
        "import numpy as np\n",
        "import skimage.io as io\n",
        "from skimage.transform import rotate, AffineTransform, warp\n",
        "from skimage.util import random_noise\n",
        "from skimage.filters import gaussian\n",
        "import matplotlib.pyplot as plt\n",
        "% matplotlib inline\n",
        "sample=train_X[2]\n",
        "blurred = gaussian(sample,sigma=1,multichannel=True)\n",
        "plt.imshow(blurred)\n"
      ]
    },
    {
      "cell_type": "code",
      "execution_count": null,
      "metadata": {
        "id": "qJZWjjdcnYbs",
        "outputId": "ca9a9ece-2e83-4752-99ed-7cf109371e41"
      },
      "outputs": [
        {
          "data": {
            "image/png": "[encoded data removed]",
            "text/plain": [
              "<Figure size 640x480 with 1 Axes>"
            ]
          },
          "metadata": {},
          "output_type": "display_data"
        }
      ],
      "source": [
        "plt.title('Blurred Image')\n",
        "plt.imshow(sample, cmap='gray')\n",
        "plt.show()"
      ]
    },
    {
      "cell_type": "code",
      "execution_count": null,
      "metadata": {
        "id": "cJUrYc-6nYbs",
        "outputId": "3afbbf8d-d7a6-41a4-c071-e141b6ae3998"
      },
      "outputs": [
        {
          "name": "stdout",
          "output_type": "stream",
          "text": [
            "313/313 [==============================] - 0s 1ms/step\n",
            "313/313 [==============================] - 1s 2ms/step\n",
            "313/313 [==============================] - 0s 2ms/step\n",
            "313/313 [==============================] - 1s 2ms/step\n",
            "313/313 [==============================] - 1s 2ms/step\n",
            "313/313 [==============================] - 1s 2ms/step\n",
            "313/313 [==============================] - 0s 1ms/step\n",
            "313/313 [==============================] - 0s 1ms/step\n",
            "313/313 [==============================] - 0s 1ms/step\n",
            "313/313 [==============================] - 0s 1ms/step\n",
            "313/313 [==============================] - 0s 1ms/step\n",
            "313/313 [==============================] - 0s 1ms/step\n",
            "Augmentation 1 - Noise: 0.1, Angle: 15 degrees\n",
            "   Dataset Size: 1000, Test Accuracy: 0.8986\n",
            "   Dataset Size: 2000, Test Accuracy: 0.9126\n",
            "   Dataset Size: 4000, Test Accuracy: 0.9454\n",
            "   Dataset Size: 8000, Test Accuracy: 0.9669\n",
            "Augmentation 2 - Noise: 0.2, Angle: 30 degrees\n",
            "   Dataset Size: 1000, Test Accuracy: 0.8639\n",
            "   Dataset Size: 2000, Test Accuracy: 0.9010\n",
            "   Dataset Size: 4000, Test Accuracy: 0.9139\n",
            "   Dataset Size: 8000, Test Accuracy: 0.9614\n",
            "Augmentation 3 - Noise: 0.2, Angle: 45 degrees\n",
            "   Dataset Size: 1000, Test Accuracy: 0.8746\n",
            "   Dataset Size: 2000, Test Accuracy: 0.8923\n",
            "   Dataset Size: 4000, Test Accuracy: 0.9212\n",
            "   Dataset Size: 8000, Test Accuracy: 0.9531\n"
          ]
        }
      ],
      "source": [
        "import numpy as np\n",
        "import tensorflow as tf\n",
        "from tensorflow.keras.datasets import mnist\n",
        "from tensorflow.keras.layers import Input, Conv2D, MaxPooling2D, Flatten, Dense\n",
        "from tensorflow.keras.models import Model\n",
        "from tensorflow.keras.utils import to_categorical\n",
        "from sklearn.metrics import accuracy_score\n",
        "from sklearn.model_selection import train_test_split\n",
        "\n",
        "# Load the MNIST dataset\n",
        "(train_X, train_y), (test_X, test_y) = mnist.load_data()\n",
        "\n",
        "# Normalize and reshape the data\n",
        "train_X = train_X.reshape(-1, 28, 28, 1) / 255.0\n",
        "test_X = test_X.reshape(-1, 28, 28, 1) / 255.0\n",
        "\n",
        "# One-hot encode the labels\n",
        "train_y = to_categorical(train_y, num_classes=10)\n",
        "test_y = to_categorical(test_y, num_classes=10)\n",
        "\n",
        "# Define custom augmentations\n",
        "def add_random_noise(image, noise_level=0.1):\n",
        "    noise = tf.random.normal(shape=tf.shape(image), mean=0.0, stddev=noise_level)\n",
        "    return tf.clip_by_value(image + noise, 0.0, 1.0)\n",
        "\n",
        "def rotate_image(image, angle):\n",
        "    return tf.image.rot90(image, k=angle // 90)\n",
        "\n",
        "# Combine augmentations\n",
        "def combined_augmentation(image, noise_level=0.1, angle=15):\n",
        "    augmented_image = image\n",
        "    augmented_image = add_random_noise(augmented_image, noise_level)\n",
        "    augmented_image = rotate_image(augmented_image, angle)\n",
        "    return augmented_image\n",
        "\n",
        "# Define hyperparameters\n",
        "augmentation_combinations = [\n",
        "    {\"noise_level\": 0.1, \"angle\": 15},\n",
        "    {\"noise_level\": 0.2, \"angle\": 30},\n",
        "    {\"noise_level\": 0.2, \"angle\": 45},\n",
        "]\n",
        "\n",
        "# Vary the training dataset size\n",
        "training_dataset_sizes = [1000, 2000, 4000, 8000]\n",
        "\n",
        "# Initialize lists to store results\n",
        "results = []\n",
        "\n",
        "# Loop through augmentation combinations\n",
        "for augmentations in augmentation_combinations:\n",
        "    accuracies = []\n",
        "\n",
        "    for dataset_size in training_dataset_sizes:\n",
        "        # Create a smaller training dataset\n",
        "        X_train_small, _, y_train_small, _ = train_test_split(\n",
        "            train_X, train_y, train_size=dataset_size, stratify=train_y.argmax(axis=1)\n",
        "        )\n",
        "\n",
        "        # Apply augmentations to the training dataset\n",
        "        augmented_X_train = []\n",
        "        for image in X_train_small:\n",
        "            augmented_image = combined_augmentation(image, **augmentations)\n",
        "            augmented_X_train.append(augmented_image)\n",
        "        augmented_X_train = np.array(augmented_X_train)\n",
        "\n",
        "        # Create and train the model\n",
        "        input_layer = Input(shape=(28, 28, 1))\n",
        "        x = Conv2D(32, (3, 3), activation=\"relu\")(input_layer)\n",
        "        x = MaxPooling2D((2, 2))(x)\n",
        "        x = Flatten()(x)\n",
        "        x = Dense(128, activation=\"relu\")(x)\n",
        "        output_layer = Dense(10, activation=\"softmax\")(x)\n",
        "        model = Model(inputs=input_layer, outputs=output_layer)\n",
        "        model.compile(optimizer=\"adam\", loss=\"categorical_crossentropy\", metrics=[\"accuracy\"])\n",
        "        model.fit(augmented_X_train, y_train_small, epochs=5, batch_size=64, verbose=0)\n",
        "\n",
        "        # Evaluate the model on the test set\n",
        "        test_pred = model.predict(test_X)\n",
        "        accuracy = accuracy_score(test_y.argmax(axis=1), test_pred.argmax(axis=1))\n",
        "        accuracies.append(accuracy)\n",
        "\n",
        "    results.append(accuracies)\n",
        "\n",
        "# Print the results\n",
        "for i, augmentations in enumerate(augmentation_combinations):\n",
        "    print(f\"Augmentation {i + 1} - Noise: {augmentations['noise_level']}, Angle: {augmentations['angle']} degrees\")\n",
        "    for j, dataset_size in enumerate(training_dataset_sizes):\n",
        "        print(f\"   Dataset Size: {dataset_size}, Test Accuracy: {results[i][j]:.4f}\")\n"
      ]
    },
    {
      "cell_type": "code",
      "execution_count": null,
      "metadata": {
        "id": "-OANfLbMnYbs"
      },
      "outputs": [],
      "source": []
    }
  ],
  "metadata": {
    "colab": {
      "provenance": [],
      "include_colab_link": true
    },
    "kernelspec": {
      "display_name": "Python 3",
      "name": "python3"
    },
    "language_info": {
      "codemirror_mode": {
        "name": "ipython",
        "version": 3
      },
      "file_extension": ".py",
      "mimetype": "text/x-python",
      "name": "python",
      "nbconvert_exporter": "python",
      "pygments_lexer": "ipython3",
      "version": "3.11.4"
    }
  },
  "nbformat": 4,
  "nbformat_minor": 0
}