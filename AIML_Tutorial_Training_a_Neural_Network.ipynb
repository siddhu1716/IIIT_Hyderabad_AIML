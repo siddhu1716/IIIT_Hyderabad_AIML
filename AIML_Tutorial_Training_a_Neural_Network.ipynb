{
  "cells": [
    {
      "cell_type": "markdown",
      "metadata": {
        "id": "TVPFp2Bx-BJV"
      },
      "source": [
        "Notebook Created by: Abdul Adhil P K\n",
        "\n",
        "\n",
        "---\n",
        "\n",
        "\n",
        "# What is a Neural Network\n",
        "\n",
        "\n",
        "\n",
        "Neural networks are a set of algorithms inspired by the functioning of the human brain. When you open your eyes, the information you perceive, known as data, is processed by neurons, which are the data processing cells in your brain. These neurons recognize patterns in the data and enable you to identify and understand your surroundings.\n",
        "\n",
        "Here is an example of Neural Network trying to predict the image data that given to it(the image data is 28x28 pixels, thats 784 pixels at input neurons). it predicts that the no is 2 here:\n",
        "\n",
        "![](https://miro.medium.com/v2/resize:fit:640/format:webp/0*aWIO7eB6E4-cIkK9.gif)\n",
        "\n"
      ]
    },
    {
      "cell_type": "markdown",
      "metadata": {
        "id": "KR9hR8ak7hgX"
      },
      "source": [
        "# Breaking Down The Neural Network!\n",
        "\n",
        "\n",
        "### 1. Data\n",
        "  The type of data a neural network processes varies drastically based on the problem being solved. When we build a neural network, we define what shape and kind of data it can accept. It may sometimes be neccessary to modify our dataset so that it can be passed to our neural network.\n",
        "\n",
        "### 2. Layers\n",
        "  As we mentioned earlier each neural network consists of multiple layers. At each layer a different transformation of data occurs. Our initial input data is fed through the layers and eventually arrives at the output layer where we will obtain the result.\n",
        "\n",
        "  * Input Layer:\n",
        "  The input layer is the layer that our initial data is passed to. It is the first layer in our neural network.\n",
        "\n",
        "  * Output Layer:\n",
        "  The output layer is the layer that we will retrive our results from. Once the data has passed through all other layers it will arrive here.\n",
        "\n",
        "  * Hidden Layer(s):\n",
        "  All the other layers in our neural network are called \"hidden layers\". This is because they are hidden to us, we cannot observe them. Most neural networks consist of at least one hidden layer but can have an unlimited amount. Typically, the more complex the model the more hidden layers.\n",
        "\n",
        "![](https://miro.medium.com/v2/resize:fit:640/format:webp/0*BSxP3AHxBe_IevHC.png)\n",
        "\n",
        "### 3. Neurons\n",
        "\n",
        "Each layer is made up of what are called neurons. For example, say we want to pass an image that is 28x28 pixels, thats 784 pixels. We would need 784 neurons in our input layer to capture each of these pixels.\n",
        "\n",
        "### 4. Weights\n",
        "  Weights are associated with each connection in our neural network. Every pair of connected nodes will have one weight that denotes the strength of the connection between them. The model will try to determine what these weights should be to achieve the best result. Weights start out at a constant or random value and will change as the network sees training data.\n",
        "\n",
        "### 5. Biases\n",
        "\n",
        "  A bias is simply a constant value associated with each layer. It can be thought of as an extra neuron that has no connections. The purpose of a bias is to shift an entire activation function by a constant value. This allows a lot more flexibllity when it comes to choosing an activation and training the network. There is one bias for each layer.\n",
        "\n",
        "![](https://miro.medium.com/v2/resize:fit:960/1*0lejoYyyQWjYzEP_BNW2nw.jpeg)\n",
        "\n",
        "### 6. Activation Function\n",
        "\n",
        "Activation functions are simply a function that is applied to the weighed sum of a neuron. They can be anything we want but are typically higher order/degree functions that aim to add a higher dimension to our data. We would want to do this to introduce more complexity to our model.\n",
        "\n",
        "\n",
        "A list of some common activation functions and their graphs can be seen below:\n",
        "\n",
        "* #### Sigmoid function:\n",
        "\n",
        "  Transform $ (- \\infty $ to $ \\infty) $ into (0 to 1) range\n",
        "  $$\n",
        "  sigmoid(x) = \\frac{1}{1 + e^{-x}}\n",
        "  $$\n",
        "\n",
        "* #### Tanh function:\n",
        "\n",
        "  Similar to sigmoid, difference being that output is -1 to +1\n",
        "\n",
        "\n",
        "$$\n",
        "tanh(x) = \\frac{e^x - e^{-x}}{e^x + e^{-x}}\n",
        "$$\n",
        "\n",
        "  \n",
        "\n",
        "* #### ReLU\n",
        "\n",
        "  $$\n",
        "  f(x) = \\begin{cases} %\n",
        "                      0 & if \\; x<0 \\\\\n",
        "                      x &  if \\;x \\geq 0.\n",
        "                  \\end{cases}\n",
        "  $$\n",
        "\n",
        "![](https://www.researchgate.net/publication/327435257/figure/fig4/AS:742898131812354@1554132125449/Activation-Functions-ReLU-Tanh-Sigmoid.ppm)\n",
        "\n",
        "There are several other loss functions, each with its own specific use cases and characteristics, you can explore those at your own pace."
      ]
    },
    {
      "cell_type": "markdown",
      "metadata": {
        "id": "0dIWWXD45sHZ"
      },
      "source": [
        "\n",
        "## How it Works\n",
        "\n",
        "A neural network consists of many Nodes (Neurons) in many layers. Each layer can have any number of nodes and a neural network can have any number of layers.\n",
        "\n",
        "\n",
        "\n",
        "Lets take the example of whats going on with a single node in the network.\n",
        "\n",
        "![](https://miro.medium.com/v2/resize:fit:720/format:webp/1*SaQMHTLi4C7MIA4IzjAXJw.png)\n",
        "\n",
        "\n",
        "\n",
        "\n",
        "\n",
        "\n",
        "\\begin{equation}\n",
        "Y =(\\sum_{i=0}^n w_i x_i) + b\n",
        "\\end{equation}\n",
        "\n",
        " * w: stands for the weight of each connection to the neuron\n",
        "\n",
        " * x: stands for the value of the connected neuron from the previous value\n",
        "\n",
        " * b: stands for the bias at each layer, this is a constant\n",
        "\n",
        " * n: is the number of connections\n",
        "\n",
        " * Y: is the output of the current neuron\n",
        "\n",
        "\n",
        " The equation you just read is called a weighed sum. We will take this weighted sum at each and every neuron as we pass information through the network. Then we will add what's called a bias to this sum. The bias allows us to shift the network up or down by a constant value. It is like the y-intercept of a line.\n",
        "\n",
        "\n",
        " But that equation is the not complete one! We forgot a crucial part, the **activation function**. Our new equation with the addition of an activation function\n",
        " is seen below.\n",
        "\n",
        "\\begin{equation}\n",
        " Y =F((\\sum_{i=0}^n w_i x_i) + b)\n",
        "\\end{equation}\n",
        "\n"
      ]
    },
    {
      "cell_type": "markdown",
      "metadata": {
        "id": "gPpxXw9S-HZ-"
      },
      "source": [
        "#### Every Neural Network has 2 main parts:\n",
        "\n",
        "* Forward Propagation.\n",
        "* Backward Propagation.\n",
        "\n",
        "![](https://www.researchgate.net/publication/327637282/figure/fig1/AS:670566579175436@1536886939536/A-simple-neural-network-with-two-hidden-layers-of-two-nodes-each-four-inputs-and-a.ppm)\n",
        "\n",
        "# Forward Propogation.\n",
        "\n",
        "* Forward propagation is the process in which input data is processed through the neural network's layers to produce an output.\n",
        "\n",
        "* It involves passing the input data through each layer of the neural network, applying the layer's weights and activation functions, until the final output is obtained.\n",
        "\n",
        "# Backpropagation\n",
        "Backpropagation is the fundemental algorithm behind training neural networks. It is what changes the weights and biases of our network. To fully explain this process, we need to learn something called a cost/loss function.\n",
        "\n",
        "# Loss/Cost Function\n",
        "\n",
        "For our training data we have the features (input) and the labels (expected output), because of this we can compare the output from our network to the expected output. Based on the difference between these values we can determine if our network has done a good job or poor job. If the network has done a good job, we'll make minor changes to the weights and biases. If it has done a poor job our changes may be more drastic.\n",
        "\n",
        "Some common loss/cost functions include.\n",
        "\n",
        "* Mean Squared Error\n",
        "\\begin{equation}\n",
        "y = \\sum_{i=1}^{D}(x_i-y_i)^2\n",
        "\\end{equation}\n",
        "\n",
        "\n",
        "* Mean Absolute Error\n",
        "\\begin{equation}y = \\sum_{i=1}^{D}|x_i-y_i|\n",
        "\\end{equation}\n",
        "* Hinge Loss\n",
        "\\begin{equation}\n",
        "y = max(0, 1 - y \\cdot \\hat{y})\n",
        "\\end{equation}\n",
        "\n",
        "Where 'D' represents the number of samples in the dataset.\n",
        "\n",
        "# Optimizer\n",
        "Optimization function is simply the function that implements the backpropagation algorithm described above. Here's a list of a few common ones.\n",
        "\n",
        "* Gradient Descent\n",
        "* Stochastic Gradient Descent\n",
        "* Mini-Batch Gradient Descent\n",
        "* Momentum\n",
        "* Nesterov Accelerated Gradient\n",
        "\n",
        "![](https://i.pinimg.com/originals/6f/d6/22/6fd62253592b42795c48dc570a17579c.gif)\n",
        "\n",
        "During backpropagation we calculate the total error at the output nodes and propagate these errors back through the network using Backpropagation to calculate the gradients. Then we use an optimization method such as Gradient Descent to adjust all weights in the network with an aim of reducing the error at the output layer.\n",
        "\n"
      ]
    },
    {
      "cell_type": "markdown",
      "metadata": {
        "id": "UbEFZXhaMLHq"
      },
      "source": [
        "## Building a Nueral Network"
      ]
    },
    {
      "cell_type": "code",
      "execution_count": 1,
      "metadata": {
        "id": "83mCQD8QFPFH"
      },
      "outputs": [],
      "source": [
        "import numpy as np\n",
        "import matplotlib.pyplot as plt\n",
        "from sklearn.datasets import load_iris\n",
        "import random"
      ]
    },
    {
      "cell_type": "code",
      "execution_count": 2,
      "metadata": {
        "id": "VK2wHTQ1FHlB"
      },
      "outputs": [],
      "source": [
        "# load the dataset\n",
        "\n",
        "iris = load_iris()\n",
        "data, labels = iris.data[:,0:2], iris.data[:,2]\n",
        "\n",
        "num_samples = len(labels)  # size of our dataset\n",
        "\n",
        "# shuffle the dataset\n",
        "shuffle_order = np.random.permutation(num_samples)\n",
        "data = data[shuffle_order, :]\n",
        "labels = labels[shuffle_order]"
      ]
    },
    {
      "cell_type": "code",
      "execution_count": 9,
      "metadata": {},
      "outputs": [
        {
          "data": {
            "text/plain": [
              "array([117, 129,  32,  37,  55,  65,  27,  81,  44, 101, 112,  49,   4,\n",
              "        48, 113, 141,  54,   8, 132,  16, 108, 104,  77, 143, 103,  93,\n",
              "        63,  59,  80,  57, 140, 147,  26,  33,  17,  10,   0,  64, 134,\n",
              "        71, 148,  89,   2, 124,  95, 138, 102,  13,  76, 119,  86, 123,\n",
              "       136,  83,  96,  46, 106, 116,  51,  82,  11,  36, 128,  20,  60,\n",
              "        14,  42, 111, 115,  21,  22, 121,  25,  41,  90,  53, 100, 146,\n",
              "        99, 144,  24,  23, 133,   7,  61,  45, 110,  62,  35,  87,   5,\n",
              "       149,  75,  34, 125, 137,   3,  92,  40, 118, 130, 114,  18,  94,\n",
              "        38,  31, 122,  43, 107,  12,  74,   9,  58,  47,  98, 139,   6,\n",
              "        67,  70, 120,  97,  88, 126,  52, 109,   1,  29,  79,  30,  72,\n",
              "        68,  69,  73,  28, 127, 145,  15,  84,  19, 105,  85,  91,  50,\n",
              "        39,  66, 131, 135,  78,  56, 142])"
            ]
          },
          "execution_count": 9,
          "metadata": {},
          "output_type": "execute_result"
        }
      ],
      "source": [
        "shuffle_order = np.random.permutation(num_samples)\n",
        "shuffle_order"
      ]
    },
    {
      "cell_type": "code",
      "execution_count": 11,
      "metadata": {},
      "outputs": [
        {
          "data": {
            "text/plain": [
              "array([[5.6, 2.7],\n",
              "       [5.1, 3.3],\n",
              "       [5. , 3.2],\n",
              "       [5.6, 2.8],\n",
              "       [5.6, 2.9],\n",
              "       [6.2, 3.4],\n",
              "       [5.1, 3.5],\n",
              "       [6. , 2.7],\n",
              "       [5.8, 2.7],\n",
              "       [6.1, 3. ],\n",
              "       [6.5, 3.2],\n",
              "       [5.7, 2.8],\n",
              "       [6.4, 2.9],\n",
              "       [5.1, 3.8],\n",
              "       [6.3, 3.4],\n",
              "       [5.4, 3.4],\n",
              "       [7.6, 3. ],\n",
              "       [4.8, 3.1],\n",
              "       [5.6, 2.5],\n",
              "       [6.1, 2.6],\n",
              "       [7.2, 3.2],\n",
              "       [6.1, 3. ],\n",
              "       [4.7, 3.2],\n",
              "       [5.4, 3. ],\n",
              "       [6.5, 2.8],\n",
              "       [7.3, 2.9],\n",
              "       [7.7, 3. ],\n",
              "       [4.4, 2.9],\n",
              "       [6. , 2.9],\n",
              "       [5.7, 2.6],\n",
              "       [6.7, 3.3],\n",
              "       [5.7, 4.4],\n",
              "       [6.2, 2.9],\n",
              "       [6. , 2.2],\n",
              "       [6.8, 2.8],\n",
              "       [6.9, 3.1],\n",
              "       [4.8, 3.4],\n",
              "       [7.4, 2.8],\n",
              "       [7.7, 3.8],\n",
              "       [7.9, 3.8],\n",
              "       [5. , 3. ],\n",
              "       [6.4, 2.8],\n",
              "       [6.7, 3. ],\n",
              "       [5.1, 3.5],\n",
              "       [4.4, 3. ],\n",
              "       [5.2, 3.5],\n",
              "       [6.9, 3.1],\n",
              "       [6.4, 2.7],\n",
              "       [4.6, 3.2],\n",
              "       [6.3, 2.7],\n",
              "       [5.5, 3.5],\n",
              "       [5. , 3.5],\n",
              "       [5.6, 3. ],\n",
              "       [6. , 2.2],\n",
              "       [5.9, 3.2],\n",
              "       [6.5, 3. ],\n",
              "       [6.7, 3. ],\n",
              "       [4.9, 2.5],\n",
              "       [4.8, 3. ],\n",
              "       [5.8, 2.7],\n",
              "       [5.9, 3. ],\n",
              "       [6.8, 3.2],\n",
              "       [5.9, 3. ],\n",
              "       [5.5, 2.4],\n",
              "       [5.5, 4.2],\n",
              "       [5. , 3.4],\n",
              "       [6.2, 2.8],\n",
              "       [7.7, 2.8],\n",
              "       [7.2, 3.6],\n",
              "       [4.9, 3.1],\n",
              "       [5. , 3.5],\n",
              "       [4.9, 2.4],\n",
              "       [6.7, 2.5],\n",
              "       [6.1, 2.8],\n",
              "       [7.7, 2.6],\n",
              "       [5.1, 3.7],\n",
              "       [5.4, 3.9],\n",
              "       [6.3, 2.8],\n",
              "       [5. , 2.3],\n",
              "       [5.7, 2.9],\n",
              "       [5. , 3.6],\n",
              "       [4.8, 3. ],\n",
              "       [5.8, 2.7],\n",
              "       [6.4, 3.1],\n",
              "       [5.3, 3.7],\n",
              "       [6.3, 3.3],\n",
              "       [5.1, 3.8],\n",
              "       [5.8, 2.8],\n",
              "       [5.5, 2.4],\n",
              "       [6.3, 3.3],\n",
              "       [6.1, 2.8],\n",
              "       [5.5, 2.6],\n",
              "       [5.8, 4. ],\n",
              "       [5.1, 2.5],\n",
              "       [4.3, 3. ],\n",
              "       [5. , 3.4],\n",
              "       [6.1, 2.9],\n",
              "       [7.1, 3. ],\n",
              "       [6.8, 3. ],\n",
              "       [6. , 3. ],\n",
              "       [5.4, 3.7],\n",
              "       [5.6, 3. ],\n",
              "       [4.6, 3.1],\n",
              "       [6.5, 3. ],\n",
              "       [5.7, 2.8],\n",
              "       [4.9, 3.6],\n",
              "       [5.1, 3.8],\n",
              "       [6.4, 3.2],\n",
              "       [5.2, 2.7],\n",
              "       [5.5, 2.3],\n",
              "       [6.3, 2.5],\n",
              "       [6.7, 3.1],\n",
              "       [6.5, 3. ],\n",
              "       [6.3, 2.9],\n",
              "       [4.6, 3.4],\n",
              "       [6.3, 2.3],\n",
              "       [5.5, 2.5],\n",
              "       [5.7, 3.8],\n",
              "       [4.9, 3.1],\n",
              "       [4.8, 3.4],\n",
              "       [6.6, 3. ],\n",
              "       [4.9, 3. ],\n",
              "       [4.4, 3.2],\n",
              "       [6. , 3.4],\n",
              "       [5.2, 3.4],\n",
              "       [6.7, 3.3],\n",
              "       [5.7, 3. ],\n",
              "       [6.4, 2.8],\n",
              "       [6.7, 3.1],\n",
              "       [5.8, 2.6],\n",
              "       [5. , 2. ],\n",
              "       [5.8, 2.7],\n",
              "       [6.9, 3.2],\n",
              "       [4.6, 3.6],\n",
              "       [6.9, 3.1],\n",
              "       [7. , 3.2],\n",
              "       [6.3, 2.5],\n",
              "       [4.7, 3.2],\n",
              "       [5.1, 3.4],\n",
              "       [7.2, 3. ],\n",
              "       [6.4, 3.2],\n",
              "       [6.2, 2.2],\n",
              "       [6.7, 3.1],\n",
              "       [5. , 3.3],\n",
              "       [5.4, 3.4],\n",
              "       [5.4, 3.9],\n",
              "       [5.2, 4.1],\n",
              "       [5.7, 2.5],\n",
              "       [4.5, 2.3],\n",
              "       [6.6, 2.9]])"
            ]
          },
          "execution_count": 11,
          "metadata": {},
          "output_type": "execute_result"
        }
      ],
      "source": [
        "data = data[shuffle_order, :]   \n",
        "data"
      ]
    },
    {
      "cell_type": "code",
      "execution_count": 13,
      "metadata": {},
      "outputs": [
        {
          "data": {
            "text/plain": [
              "array([4.2, 1.7, 1.2, 4.9, 3.6, 5.4, 1.4, 5.1, 5.1, 4.6, 5.1, 4.5, 4.3,\n",
              "       1.6, 5.6, 1.7, 6.6, 1.6, 3.9, 5.6, 6. , 4.9, 1.6, 4.5, 4.6, 6.3,\n",
              "       6.1, 1.4, 4.5, 3.5, 5.7, 1.5, 4.3, 4. , 4.8, 5.1, 1.6, 6.1, 6.7,\n",
              "       6.4, 1.6, 5.6, 5. , 1.4, 1.3, 1.5, 4.9, 5.3, 1.4, 4.9, 1.3, 1.6,\n",
              "       4.5, 5. , 4.8, 5.5, 5.2, 4.5, 1.4, 3.9, 4.2, 5.9, 5.1, 3.7, 1.4,\n",
              "       1.6, 4.8, 6.7, 6.1, 1.5, 1.3, 3.3, 5.8, 4. , 6.9, 1.5, 1.7, 5.1,\n",
              "       3.3, 4.2, 1.4, 1.4, 4.1, 5.5, 1.5, 6. , 1.9, 5.1, 3.8, 4.7, 4.7,\n",
              "       4.4, 1.2, 3. , 1.1, 1.5, 4.7, 5.9, 5.5, 4.8, 1.5, 4.1, 1.5, 5.2,\n",
              "       4.1, 1.4, 1.5, 4.5, 3.9, 4. , 5. , 4.7, 5.8, 5.6, 1.4, 4.4, 4. ,\n",
              "       1.7, 1.5, 1.9, 4.4, 1.4, 1.3, 4.5, 1.4, 5.7, 4.2, 5.6, 5.6, 4. ,\n",
              "       3.5, 5.1, 5.7, 1. , 5.4, 4.7, 4.9, 1.3, 1.5, 5.8, 5.3, 4.5, 4.4,\n",
              "       1.4, 1.5, 1.3, 1.5, 5. , 1.3, 4.6])"
            ]
          },
          "execution_count": 13,
          "metadata": {},
          "output_type": "execute_result"
        }
      ],
      "source": [
        "labels = labels[shuffle_order]\n",
        "labels"
      ]
    },
    {
      "cell_type": "markdown",
      "metadata": {
        "id": "1JFlz0COF9Hh"
      },
      "source": [
        "Like the 1-dimensional problem previously, we can still do linear regression, except now we have two variables and therefore two weights as well. Let's denote the input variables as x1 and x2 and instead of using m as the coefficient variable, let's use w1 and w2. So for linear regression, we would have the following function:\n",
        "\n",
        "$$\n",
        "f(X) = w_1 x_1 + w_2 x_2 + b\n",
        "$$\n",
        "\n",
        "\n",
        "For example, suppose set w = [0.2, 0.6] and b = -0.3. Let's calculate the resulting . We can program this as a function called \"weighted_sum\"."
      ]
    },
    {
      "cell_type": "code",
      "execution_count": 16,
      "metadata": {
        "colab": {
          "base_uri": "https://localhost:8080/"
        },
        "id": "6u5YRiIvFctw",
        "outputId": "051b64ab-bde0-4c0c-b462-5e55067b434a"
      },
      "outputs": [
        {
          "name": "stdout",
          "output_type": "stream",
          "text": [
            "for x=[5.60, 2.70], predicted = 2.44, actual = 4.20\n"
          ]
        }
      ],
      "source": [
        "def weighted_sum(x, w, b):\n",
        "    return b + np.dot(w, x)\n",
        "\n",
        "# set our paramters - weights and bias\n",
        "w = [0.2, 0.6]\n",
        "b = -0.3\n",
        "\n",
        "# for example, let's use the first data point\n",
        "X, y = data, labels\n",
        "\n",
        "pred_y = [weighted_sum(x, w, b) for x in X]\n",
        "\n",
        "# let's print out the first prediction\n",
        "print(\"for x=[%0.2f, %0.2f], predicted = %0.2f, actual = %0.2f\" % (X[0][0], X[0][1], pred_y[0], y[0]))"
      ]
    },
    {
      "cell_type": "markdown",
      "metadata": {
        "id": "Ay4a6YMhG6tJ"
      },
      "source": [
        "We can evaluate the quality of our predictions using cost/loss functions. Lets use the sum-squared error function\n",
        "\n"
      ]
    },
    {
      "cell_type": "code",
      "execution_count": 17,
      "metadata": {
        "colab": {
          "base_uri": "https://localhost:8080/"
        },
        "id": "hysg_sq0FoKA",
        "outputId": "1e174270-dc5f-43c1-fcf0-b9fe62d10c36"
      },
      "outputs": [
        {
          "name": "stdout",
          "output_type": "stream",
          "text": [
            "313.50559999999996\n"
          ]
        }
      ],
      "source": [
        "# sum squared error\n",
        "def cost_function(y_pred, y_actual):\n",
        "    return 0.5 * np.sum((y_actual-y_pred)**2)\n",
        "\n",
        "error = cost_function(pred_y, y)\n",
        "print(error)"
      ]
    },
    {
      "cell_type": "code",
      "execution_count": 19,
      "metadata": {
        "colab": {
          "base_uri": "https://localhost:8080/"
        },
        "id": "BuZqQYNmHFUf",
        "outputId": "398dafc9-5179-40b8-ab24-cb9dddd9e38f"
      },
      "outputs": [
        {
          "name": "stdout",
          "output_type": "stream",
          "text": [
            "initial parameters: w1=0.291, w2=0.142, b=0.477\n",
            "initial cost = 8.720\n"
          ]
        }
      ],
      "source": [
        "# normalizing the data\n",
        "X = X / np.amax(X, axis=0)\n",
        "y = y / np.amax(y, axis=0)\n",
        "\n",
        "# randomly initializing w, b\n",
        "w, b = [random.random(), random.random()], random.random()\n",
        "\n",
        "# our function w*x + b\n",
        "def F(X, w, b):\n",
        "    return np.sum(w*X, axis=1) + b\n",
        "\n",
        "# calculating error using cost function(Here we use Mean Squared Error)\n",
        "y_pred = F(X, w, b)\n",
        "init_cost = cost_function(y_pred, y)\n",
        "\n",
        "print(\"initial parameters: w1=%0.3f, w2=%0.3f, b=%0.3f\"%(w[0], w[1], b))\n",
        "print(\"initial cost = %0.3f\" % init_cost)"
      ]
    },
    {
      "cell_type": "markdown",
      "metadata": {
        "id": "kpR3WeBjJ2sw"
      },
      "source": [
        "Now the partial derivatives are:\n",
        "\n",
        "$$\n",
        "\\frac{\\partial J}{\\partial w_1} = - \\sum{x_1^i \\cdot (y^i - (w_1 x_1^i + w_2 x_2^i+ b))}\n",
        "$$\n",
        "\n",
        "$$\n",
        "\\frac{\\partial J}{\\partial w_2} = - \\sum{x_2^i \\cdot (y^i - (w_1 x_1^i + w_2 x_2^i+ b))}\n",
        "$$\n",
        "\n",
        "$$\n",
        "\\frac{\\partial J}{\\partial b} = - \\sum{y^i - (w_1 x_1^i + w_2 x_2^i+ b)}\n",
        "$$"
      ]
    },
    {
      "cell_type": "code",
      "execution_count": 20,
      "metadata": {
        "id": "CveoHZvHJYPO"
      },
      "outputs": [],
      "source": [
        "# implement partial derivatives of our parameters\n",
        "\n",
        "def dJdw1(X, y, w, b):\n",
        "    return -np.dot(X[:,0], y - F(X, w, b))\n",
        "\n",
        "def dJdw2(X, y, w, b):\n",
        "    return -np.dot(X[:,1], y - F(X, w, b))\n",
        "\n",
        "def dJdb(X, y, w, b):\n",
        "    return -np.sum(y - F(X, w, b))"
      ]
    },
    {
      "cell_type": "markdown",
      "metadata": {
        "id": "KEAv94RcKQGk"
      },
      "source": [
        "Aftet that, we use the following update rule, where we calculate the gradient and then adjust the parameters.\n",
        "\n",
        "$$\n",
        "w_1 = w_1 - \\alpha \\cdot \\frac{\\partial J}{\\partial w_i}\n",
        "$$\n",
        "\n",
        "$$\n",
        "w_2 = w_2 - \\alpha \\cdot \\frac{\\partial J}{\\partial w_2}\n",
        "$$\n",
        "\n",
        "$$\n",
        "b = b - \\alpha \\cdot \\frac{\\partial J}{\\partial b}\n",
        "$$"
      ]
    },
    {
      "cell_type": "code",
      "execution_count": 21,
      "metadata": {
        "id": "RhZBXPFyJksq"
      },
      "outputs": [],
      "source": [
        "# choose the learning rate parameter and number of iterations\n",
        "lr = 0.001\n",
        "n_iters = 2000\n",
        "\n",
        "# run through gradient descent\n",
        "errors = []\n",
        "for i in range(n_iters):\n",
        "    w[0] = w[0] - lr * dJdw1(X, y, w, b)\n",
        "    w[1] = w[1] - lr * dJdw2(X, y, w, b)\n",
        "    b = b - lr * dJdb(X, y, w, b)\n",
        "    y_pred = F(X, w, b)\n",
        "    j = cost_function(y_pred, y)\n",
        "    errors.append(j)"
      ]
    },
    {
      "cell_type": "code",
      "execution_count": 22,
      "metadata": {
        "colab": {
          "base_uri": "https://localhost:8080/",
          "height": 489
        },
        "id": "Yj9y6jspLAVp",
        "outputId": "0c03e23a-47ad-4477-a40c-736723fc44e2"
      },
      "outputs": [
        {
          "data": {
            "text/plain": [
              "Text(0.5, 0, 'iterations')"
            ]
          },
          "execution_count": 22,
          "metadata": {},
          "output_type": "execute_result"
        },
        {
          "data": {
            "image/png": "[encoded data removed]",
            "text/plain": [
              "<Figure size 640x480 with 1 Axes>"
            ]
          },
          "metadata": {},
          "output_type": "display_data"
        }
      ],
      "source": [
        "# plot the error\n",
        "plt.plot(range(n_iters), errors, linewidth=2)\n",
        "plt.title(\"Cost by iteration\")\n",
        "plt.ylabel(\"Cost\")\n",
        "plt.xlabel(\"iterations\")"
      ]
    },
    {
      "cell_type": "markdown",
      "metadata": {
        "id": "bQKAdGigLwoL"
      },
      "source": [
        "* At the beginning of training, the loss is typically high as the model's weights are randomly initialized,the model struggles to make accurate predictions, resulting in a high training loss.\n",
        "\n",
        "* As the training progresses, the loss generally decreases, the model adjusts its weights and biases to minimize the difference between its predictions and the actual target values."
      ]
    },
    {
      "cell_type": "markdown",
      "metadata": {
        "id": "zGyf_gw2NMrc"
      },
      "source": [
        "Let's implement the sigmoid function.\n",
        "\n"
      ]
    },
    {
      "cell_type": "code",
      "execution_count": 23,
      "metadata": {
        "id": "soOMzv5qLEEI"
      },
      "outputs": [],
      "source": [
        "def sigmoid(z):\n",
        "    return 1.0 / (1.0 + np.exp(-z))"
      ]
    },
    {
      "cell_type": "markdown",
      "metadata": {
        "id": "CtafACY5NYq6"
      },
      "source": [
        "Basically, a sigmoid just squashes any input it gets to between 0 and 1. So we now modify our basic function in the following way: instead of just outputting the weighted sum by itself,we now pass that through the sigmoid function.\n",
        "\n",
        "  So instead of y = (w_1 * x_1) + (w_2 * x_2) + b our function now looks like:\n",
        "\n",
        "$$\n",
        "y = \\frac{1}{1 + e^{-(w_1 x_1 + w_2 x_2 + b)}}\n",
        "$$"
      ]
    },
    {
      "cell_type": "code",
      "execution_count": 24,
      "metadata": {
        "colab": {
          "base_uri": "https://localhost:8080/"
        },
        "id": "rXQ3uzNLOCah",
        "outputId": "a568ae6f-d5e2-4444-b8d5-3d8e21fe0022"
      },
      "outputs": [
        {
          "name": "stdout",
          "output_type": "stream",
          "text": [
            "829.3581552057614\n"
          ]
        }
      ],
      "source": [
        "def weighted_sum(x, w, b):\n",
        "    return b + np.dot(w, x)\n",
        "\n",
        "def sigmoid(z):\n",
        "    return 1 / (1 + np.exp(-z))\n",
        "\n",
        "# our parameters\n",
        "w = [0.2, 0.6]\n",
        "b = -0.3\n",
        "\n",
        "X, y = data, labels\n",
        "\n",
        "# get weighted sum like before\n",
        "Z = [weighted_sum(x, w, b) for x in X]\n",
        "\n",
        "# now transform the weighted sums with a sigmoid\n",
        "y_pred = [sigmoid(z) for z in Z]\n",
        "\n",
        "# evaluate error\n",
        "error = cost_function(y_pred, y)\n",
        "print(error)"
      ]
    },
    {
      "cell_type": "markdown",
      "metadata": {
        "id": "yTsbzEwKOvQ3"
      },
      "source": [
        "The function we posed above can already be considered a neural network. But let's complicate things a bit further, by adding a hidden layer. Neurons can be arranged in layers. So instead of having just two input neurons and an output neuron, let's place a layer of three neurons in the middle\n",
        "\n",
        "![](https://raw.githubusercontent.com/ml4a/ml4a/a8831f15b581f091d16003b0b61a68ed1bbbb770/assets/neuralnet.jpg)"
      ]
    },
    {
      "cell_type": "code",
      "execution_count": 25,
      "metadata": {
        "colab": {
          "base_uri": "https://localhost:8080/"
        },
        "id": "m-MoMt2YOkTL",
        "outputId": "9324123b-2a6f-4a4d-dcd6-7d0a313df6d3"
      },
      "outputs": [
        {
          "name": "stdout",
          "output_type": "stream",
          "text": [
            "W1= [[ 0.86522971 -1.11675033 -1.39827944]\n",
            " [ 0.66064177  0.5473397   1.2261577 ]]\n",
            "W2= [[ 0.54119266]\n",
            " [-0.57764092]\n",
            " [-0.89630148]]\n"
          ]
        }
      ],
      "source": [
        "W1 = np.random.randn(2, 3)\n",
        "W2 = np.random.randn(3, 1)\n",
        "\n",
        "print(\"W1=\", W1)\n",
        "print(\"W2=\", W2)"
      ]
    },
    {
      "cell_type": "markdown",
      "metadata": {
        "id": "cVWOhKp9PFM-"
      },
      "source": [
        "#### implementing a forward pass"
      ]
    },
    {
      "cell_type": "code",
      "execution_count": 26,
      "metadata": {
        "colab": {
          "base_uri": "https://localhost:8080/"
        },
        "id": "1vaPe9UeO9m7",
        "outputId": "a2fb2490-e3ba-492b-8b00-5c706d9d53e1"
      },
      "outputs": [
        {
          "name": "stdout",
          "output_type": "stream",
          "text": [
            "predicted 2.44 for example 0, actual 4.20, total cost 153392.59\n"
          ]
        }
      ],
      "source": [
        "\n",
        "X, y = data, labels\n",
        "\n",
        "# first layer weighted sum z\n",
        "z = np.dot(X, W1)\n",
        "\n",
        "# project z through non-linear sigmoid\n",
        "z = sigmoid(z)\n",
        "\n",
        "# do another dot product at end (sigmoid is omitted)\n",
        "y_pred = np.dot(z, W2)\n",
        "\n",
        "# what is our cost\n",
        "error = cost_function(y_pred, y)\n",
        "\n",
        "print('predicted %0.2f for example 0, actual %0.2f, total cost %0.2f'%(pred_y[0], y[0], error))"
      ]
    },
    {
      "cell_type": "markdown",
      "metadata": {
        "id": "J8iY5h-4PYpJ"
      },
      "source": [
        "Let's turn the above operations into a class.\n",
        "\n"
      ]
    },
    {
      "cell_type": "code",
      "execution_count": 27,
      "metadata": {
        "id": "6F2SHwt0PDIW"
      },
      "outputs": [],
      "source": [
        "class Neural_Network(object):\n",
        "    def __init__(self, n0, n1, n2):\n",
        "        self.n0 = n0\n",
        "        self.n1 = n1\n",
        "        self.n2 = n2\n",
        "\n",
        "        # initialize weights\n",
        "        self.W1 = np.random.randn(self.n0, self.n1)\n",
        "        self.W2 = np.random.randn(self.n1 ,self.n2)\n",
        "\n",
        "    def predict(self, x):\n",
        "        z = np.dot(x, self.W1)\n",
        "        z = sigmoid(z)\n",
        "        y = np.dot(z, self.W2)\n",
        "        return y\n"
      ]
    },
    {
      "cell_type": "code",
      "execution_count": 28,
      "metadata": {
        "id": "il41fIVZPSBb"
      },
      "outputs": [],
      "source": [
        "# instantiate a neural network with 2 input neurons, 3 hidden neurons, and 1 output neuron using above class\n",
        "\n",
        "net = Neural_Network(2, 3, 1)"
      ]
    },
    {
      "cell_type": "markdown",
      "metadata": {
        "id": "rxCMltIMPwST"
      },
      "source": [
        "Now to do a forward pass, we can simply run the networks predict function:\n"
      ]
    },
    {
      "cell_type": "code",
      "execution_count": 29,
      "metadata": {
        "colab": {
          "base_uri": "https://localhost:8080/"
        },
        "id": "0P87xH2HPrWt",
        "outputId": "c75eecd2-c119-4534-b7d4-207b545b7b88"
      },
      "outputs": [
        {
          "name": "stdout",
          "output_type": "stream",
          "text": [
            "predicted 2.44 for example 0, actual 4.20, total cost 346755.43\n"
          ]
        }
      ],
      "source": [
        "X, y = data, labels\n",
        "y_pred = net.predict(X)\n",
        "error = cost_function(y_pred, y)\n",
        "\n",
        "print('predicted %0.2f for example 0, actual %0.2f, total cost %0.2f'%(pred_y[0], y[0], error))"
      ]
    },
    {
      "cell_type": "markdown",
      "metadata": {
        "id": "mDMiAPzJQHQB"
      },
      "source": [
        " we have a 2x3x1 neural network with 9 weights and 4 biases for 13 total parameters.\n",
        "\n",
        " Now we optimize the parameters to minimize our cost function using Gradient Descent.\n",
        "\n",
        "Gradient Descent will find the gradient of the cost/loss function(J)\n",
        " with respect to the parameters w,b.\n",
        "\n",
        " $$\n",
        " w_i := w_i - \\alpha \\cdot \\frac{\\partial J}{\\partial w_i}\n",
        " $$"
      ]
    },
    {
      "cell_type": "code",
      "execution_count": 30,
      "metadata": {
        "id": "eXEVFmcoP05N"
      },
      "outputs": [],
      "source": [
        "def get_gradient(net, X, y):\n",
        "    w_delta = 1e-8\n",
        "\n",
        "    # get the current value of the loss, wherever the parameters are\n",
        "    y_pred_current = net.predict(X)\n",
        "    error_current = cost_function(y_pred_current, y)\n",
        "\n",
        "    # grab the current weights and copy them (so we can restore them after modification)\n",
        "    dw1, dw2 = np.zeros((net.n0, net.n1)), np.zeros((net.n1, net.n2))\n",
        "    W1, W2 = np.copy(net.W1), np.copy(net.W2)\n",
        "\n",
        "    # Calculate gradient for the first layer\n",
        "    for i in range(net.n0):\n",
        "        for j in range(net.n1):\n",
        "            net.W1 = np.copy(W1)\n",
        "            net.W1[i][j] += w_delta\n",
        "            y_pred = net.predict(X)\n",
        "            error = cost_function(y_pred, y)\n",
        "            dw1[i][j] = (error - error_current) / w_delta\n",
        "\n",
        "    # Calculate gradient for the second layer\n",
        "    for i in range(net.n1):\n",
        "        for j in range(net.n2):\n",
        "            net.W2 = np.copy(W2)\n",
        "            net.W2[i][j] += w_delta\n",
        "            y_pred = net.predict(X)\n",
        "            error = cost_function(y_pred, y)\n",
        "            dw2[i][j] = (error - error_current) / w_delta\n",
        "\n",
        "    # restore the original weights\n",
        "    net.W1, net.W2 = np.copy(W1), np.copy(W2)\n",
        "\n",
        "    return dw1, dw2"
      ]
    },
    {
      "cell_type": "markdown",
      "metadata": {
        "id": "ZUNZoWSBSfUH"
      },
      "source": [
        "The above function 'get_gradient' calculates the gradient of a 2-layer network net, for our dataset X, y"
      ]
    },
    {
      "cell_type": "markdown",
      "metadata": {
        "id": "5U_VzLU4Sp_8"
      },
      "source": [
        "Now we train the network by the following steps:\n",
        "\n",
        "1. Load our dataset\n",
        "2. Instantiate a neural network\n",
        "3. Train it on the data using the gradient method made above."
      ]
    },
    {
      "cell_type": "code",
      "execution_count": 31,
      "metadata": {
        "colab": {
          "base_uri": "https://localhost:8080/"
        },
        "id": "Hw5Q_cWWSY45",
        "outputId": "cfb91cc0-99fd-45b6-b3b2-5ec2f42de7cb"
      },
      "outputs": [
        {
          "name": "stdout",
          "output_type": "stream",
          "text": [
            "initial cost = 162.093\n"
          ]
        }
      ],
      "source": [
        "# load the data and labels\n",
        "X, y = data, labels.reshape((len(labels),1))\n",
        "\n",
        "# it's always a good idea to normalize the data between 0 and 1\n",
        "X = X/np.amax(X, axis=0)\n",
        "y = y/np.amax(y, axis=0)\n",
        "\n",
        "# create a 2x3x1 neural net\n",
        "net = Neural_Network(2, 3, 1)\n",
        "\n",
        "# what is the current cost?\n",
        "y_orig = net.predict(X)\n",
        "init_cost = cost_function(y_orig, y)\n",
        "print(\"initial cost = %0.3f\" % init_cost)\n",
        "\n",
        "# Set the learning rate, and how many epochs (updates) to try\n",
        "n_epochs = 2000\n",
        "learning_rate = 0.01\n",
        "\n",
        "# for each epoch, calculate the gradient, then subtract it from the parameters, and save the cost\n",
        "errors = []\n",
        "for i in range(n_epochs):\n",
        "    dw1, dw2 = get_gradient(net, X, y)\n",
        "    net.W1 = net.W1 - learning_rate * dw1\n",
        "    net.W2 = net.W2 - learning_rate * dw2\n",
        "    y_pred = net.predict(X)\n",
        "    error = cost_function(y_pred, y)\n",
        "    errors.append(error)\n"
      ]
    },
    {
      "cell_type": "code",
      "execution_count": 32,
      "metadata": {
        "colab": {
          "base_uri": "https://localhost:8080/",
          "height": 466
        },
        "id": "YfzAFsVoTHgH",
        "outputId": "dc6ff127-494e-4473-add9-604718e32d6a"
      },
      "outputs": [
        {
          "data": {
            "text/plain": [
              "Text(0, 0.5, 'Error')"
            ]
          },
          "execution_count": 32,
          "metadata": {},
          "output_type": "execute_result"
        },
        {
          "data": {
            "image/png": "[encoded data removed]",
            "text/plain": [
              "<Figure size 640x480 with 1 Axes>"
            ]
          },
          "metadata": {},
          "output_type": "display_data"
        }
      ],
      "source": [
        "# plotting iterations vs error\n",
        "plt.plot(range(0, len(errors)), errors)\n",
        "plt.xlabel('Iterations')\n",
        "plt.ylabel('Error')"
      ]
    },
    {
      "cell_type": "code",
      "execution_count": null,
      "metadata": {},
      "outputs": [],
      "source": []
    }
  ],
  "metadata": {
    "colab": {
      "provenance": []
    },
    "kernelspec": {
      "display_name": "Python 3",
      "name": "python3"
    },
    "language_info": {
      "codemirror_mode": {
        "name": "ipython",
        "version": 3
      },
      "file_extension": ".py",
      "mimetype": "text/x-python",
      "name": "python",
      "nbconvert_exporter": "python",
      "pygments_lexer": "ipython3",
      "version": "3.11.6"
    }
  },
  "nbformat": 4,
  "nbformat_minor": 0
}
